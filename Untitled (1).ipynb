{
 "cells": [
  {
   "cell_type": "code",
   "execution_count": 1,
   "id": "7fa153fe",
   "metadata": {},
   "outputs": [],
   "source": [
    "import numpy as np\n",
    "import pandas as pd\n",
    "import math\n",
    "np.set_printoptions(suppress=True)\n",
    "\n",
    "\n",
    "user_artist_df = pd.read_csv('user_artist.csv')\n",
    "test_df = pd.read_csv('test.csv')"
   ]
  },
  {
   "cell_type": "code",
   "execution_count": 2,
   "id": "4968dc2e",
   "metadata": {},
   "outputs": [],
   "source": [
    "new_df = (user_artist_df.copy())[0:50]\n",
    "new_test_df = (test_df.copy())\n",
    "mask = (new_test_df['userID'] == 145)\n",
    "mask1 = (new_test_df['userID'] == 145) | (new_test_df['userID'] == 1539) | (new_test_df['userID'] == 2214)| (new_test_df['userID'] == 211) | (new_test_df['userID'] == 3028)\n",
    "new_test_df = new_test_df[mask] \n",
    "new_test_df['weight'] = -1"
   ]
  },
  {
   "cell_type": "code",
   "execution_count": 3,
   "id": "e6d0121a",
   "metadata": {},
   "outputs": [
    {
     "data": {
      "text/html": [
       "<div>\n",
       "<style scoped>\n",
       "    .dataframe tbody tr th:only-of-type {\n",
       "        vertical-align: middle;\n",
       "    }\n",
       "\n",
       "    .dataframe tbody tr th {\n",
       "        vertical-align: top;\n",
       "    }\n",
       "\n",
       "    .dataframe thead th {\n",
       "        text-align: right;\n",
       "    }\n",
       "</style>\n",
       "<table border=\"1\" class=\"dataframe\">\n",
       "  <thead>\n",
       "    <tr style=\"text-align: right;\">\n",
       "      <th>artistID</th>\n",
       "      <th>430087</th>\n",
       "    </tr>\n",
       "    <tr>\n",
       "      <th>userID</th>\n",
       "      <th></th>\n",
       "    </tr>\n",
       "  </thead>\n",
       "  <tbody>\n",
       "    <tr>\n",
       "      <th>145</th>\n",
       "      <td>-1</td>\n",
       "    </tr>\n",
       "  </tbody>\n",
       "</table>\n",
       "</div>"
      ],
      "text/plain": [
       "artistID  430087\n",
       "userID          \n",
       "145           -1"
      ]
     },
     "execution_count": 3,
     "metadata": {},
     "output_type": "execute_result"
    }
   ],
   "source": [
    "new_test_df1 = pd.pivot_table(new_test_df, values = 'weight', index = ['userID'], columns = ['artistID'])\n",
    "new_test_df1"
   ]
  },
  {
   "cell_type": "code",
   "execution_count": 4,
   "id": "116d4670",
   "metadata": {},
   "outputs": [
    {
     "data": {
      "text/html": [
       "<div>\n",
       "<style scoped>\n",
       "    .dataframe tbody tr th:only-of-type {\n",
       "        vertical-align: middle;\n",
       "    }\n",
       "\n",
       "    .dataframe tbody tr th {\n",
       "        vertical-align: top;\n",
       "    }\n",
       "\n",
       "    .dataframe thead th {\n",
       "        text-align: right;\n",
       "    }\n",
       "</style>\n",
       "<table border=\"1\" class=\"dataframe\">\n",
       "  <thead>\n",
       "    <tr style=\"text-align: right;\">\n",
       "      <th>artistID</th>\n",
       "      <th>16297</th>\n",
       "      <th>34924</th>\n",
       "      <th>64135</th>\n",
       "      <th>71619</th>\n",
       "      <th>76710</th>\n",
       "      <th>77532</th>\n",
       "      <th>98678</th>\n",
       "      <th>124806</th>\n",
       "      <th>138281</th>\n",
       "      <th>158427</th>\n",
       "      <th>...</th>\n",
       "      <th>832710</th>\n",
       "      <th>838773</th>\n",
       "      <th>853711</th>\n",
       "      <th>880536</th>\n",
       "      <th>880675</th>\n",
       "      <th>923116</th>\n",
       "      <th>942223</th>\n",
       "      <th>955087</th>\n",
       "      <th>990451</th>\n",
       "      <th>998913</th>\n",
       "    </tr>\n",
       "    <tr>\n",
       "      <th>userID</th>\n",
       "      <th></th>\n",
       "      <th></th>\n",
       "      <th></th>\n",
       "      <th></th>\n",
       "      <th></th>\n",
       "      <th></th>\n",
       "      <th></th>\n",
       "      <th></th>\n",
       "      <th></th>\n",
       "      <th></th>\n",
       "      <th></th>\n",
       "      <th></th>\n",
       "      <th></th>\n",
       "      <th></th>\n",
       "      <th></th>\n",
       "      <th></th>\n",
       "      <th></th>\n",
       "      <th></th>\n",
       "      <th></th>\n",
       "      <th></th>\n",
       "      <th></th>\n",
       "    </tr>\n",
       "  </thead>\n",
       "  <tbody>\n",
       "    <tr>\n",
       "      <th>145</th>\n",
       "      <td>NaN</td>\n",
       "      <td>NaN</td>\n",
       "      <td>131.0</td>\n",
       "      <td>445.0</td>\n",
       "      <td>74.0</td>\n",
       "      <td>157.0</td>\n",
       "      <td>67.0</td>\n",
       "      <td>83.0</td>\n",
       "      <td>99.0</td>\n",
       "      <td>102.0</td>\n",
       "      <td>...</td>\n",
       "      <td>NaN</td>\n",
       "      <td>252.0</td>\n",
       "      <td>100.0</td>\n",
       "      <td>NaN</td>\n",
       "      <td>101.0</td>\n",
       "      <td>156.0</td>\n",
       "      <td>173.0</td>\n",
       "      <td>5450.0</td>\n",
       "      <td>NaN</td>\n",
       "      <td>132.0</td>\n",
       "    </tr>\n",
       "    <tr>\n",
       "      <th>211</th>\n",
       "      <td>188.0</td>\n",
       "      <td>NaN</td>\n",
       "      <td>NaN</td>\n",
       "      <td>NaN</td>\n",
       "      <td>NaN</td>\n",
       "      <td>NaN</td>\n",
       "      <td>NaN</td>\n",
       "      <td>NaN</td>\n",
       "      <td>NaN</td>\n",
       "      <td>NaN</td>\n",
       "      <td>...</td>\n",
       "      <td>114.0</td>\n",
       "      <td>NaN</td>\n",
       "      <td>NaN</td>\n",
       "      <td>103.0</td>\n",
       "      <td>NaN</td>\n",
       "      <td>NaN</td>\n",
       "      <td>NaN</td>\n",
       "      <td>NaN</td>\n",
       "      <td>80.0</td>\n",
       "      <td>NaN</td>\n",
       "    </tr>\n",
       "    <tr>\n",
       "      <th>1539</th>\n",
       "      <td>NaN</td>\n",
       "      <td>679.0</td>\n",
       "      <td>NaN</td>\n",
       "      <td>NaN</td>\n",
       "      <td>NaN</td>\n",
       "      <td>NaN</td>\n",
       "      <td>NaN</td>\n",
       "      <td>NaN</td>\n",
       "      <td>NaN</td>\n",
       "      <td>NaN</td>\n",
       "      <td>...</td>\n",
       "      <td>NaN</td>\n",
       "      <td>NaN</td>\n",
       "      <td>NaN</td>\n",
       "      <td>NaN</td>\n",
       "      <td>NaN</td>\n",
       "      <td>NaN</td>\n",
       "      <td>NaN</td>\n",
       "      <td>NaN</td>\n",
       "      <td>NaN</td>\n",
       "      <td>NaN</td>\n",
       "    </tr>\n",
       "  </tbody>\n",
       "</table>\n",
       "<p>3 rows × 50 columns</p>\n",
       "</div>"
      ],
      "text/plain": [
       "artistID  16297   34924   64135   71619   76710   77532   98678   124806  \\\n",
       "userID                                                                     \n",
       "145          NaN     NaN   131.0   445.0    74.0   157.0    67.0    83.0   \n",
       "211        188.0     NaN     NaN     NaN     NaN     NaN     NaN     NaN   \n",
       "1539         NaN   679.0     NaN     NaN     NaN     NaN     NaN     NaN   \n",
       "\n",
       "artistID  138281  158427  ...  832710  838773  853711  880536  880675  923116  \\\n",
       "userID                    ...                                                   \n",
       "145         99.0   102.0  ...     NaN   252.0   100.0     NaN   101.0   156.0   \n",
       "211          NaN     NaN  ...   114.0     NaN     NaN   103.0     NaN     NaN   \n",
       "1539         NaN     NaN  ...     NaN     NaN     NaN     NaN     NaN     NaN   \n",
       "\n",
       "artistID  942223  955087  990451  998913  \n",
       "userID                                    \n",
       "145        173.0  5450.0     NaN   132.0  \n",
       "211          NaN     NaN    80.0     NaN  \n",
       "1539         NaN     NaN     NaN     NaN  \n",
       "\n",
       "[3 rows x 50 columns]"
      ]
     },
     "execution_count": 4,
     "metadata": {},
     "output_type": "execute_result"
    }
   ],
   "source": [
    "new_df1 = pd.pivot_table(new_df, values=\"weight\", index=['userID'], columns=[\"artistID\"])\n",
    "new_df1"
   ]
  },
  {
   "cell_type": "code",
   "execution_count": 5,
   "id": "044d0f5f",
   "metadata": {},
   "outputs": [],
   "source": [
    "new_df1.fillna(0, inplace=True)"
   ]
  },
  {
   "cell_type": "code",
   "execution_count": 6,
   "id": "b69fa4c5",
   "metadata": {},
   "outputs": [
    {
     "data": {
      "text/html": [
       "<div>\n",
       "<style scoped>\n",
       "    .dataframe tbody tr th:only-of-type {\n",
       "        vertical-align: middle;\n",
       "    }\n",
       "\n",
       "    .dataframe tbody tr th {\n",
       "        vertical-align: top;\n",
       "    }\n",
       "\n",
       "    .dataframe thead th {\n",
       "        text-align: right;\n",
       "    }\n",
       "</style>\n",
       "<table border=\"1\" class=\"dataframe\">\n",
       "  <thead>\n",
       "    <tr style=\"text-align: right;\">\n",
       "      <th>artistID</th>\n",
       "      <th>16297</th>\n",
       "      <th>34924</th>\n",
       "      <th>64135</th>\n",
       "      <th>71619</th>\n",
       "      <th>76710</th>\n",
       "      <th>77532</th>\n",
       "      <th>98678</th>\n",
       "      <th>124806</th>\n",
       "      <th>138281</th>\n",
       "      <th>158427</th>\n",
       "      <th>...</th>\n",
       "      <th>832710</th>\n",
       "      <th>838773</th>\n",
       "      <th>853711</th>\n",
       "      <th>880536</th>\n",
       "      <th>880675</th>\n",
       "      <th>923116</th>\n",
       "      <th>942223</th>\n",
       "      <th>955087</th>\n",
       "      <th>990451</th>\n",
       "      <th>998913</th>\n",
       "    </tr>\n",
       "    <tr>\n",
       "      <th>userID</th>\n",
       "      <th></th>\n",
       "      <th></th>\n",
       "      <th></th>\n",
       "      <th></th>\n",
       "      <th></th>\n",
       "      <th></th>\n",
       "      <th></th>\n",
       "      <th></th>\n",
       "      <th></th>\n",
       "      <th></th>\n",
       "      <th></th>\n",
       "      <th></th>\n",
       "      <th></th>\n",
       "      <th></th>\n",
       "      <th></th>\n",
       "      <th></th>\n",
       "      <th></th>\n",
       "      <th></th>\n",
       "      <th></th>\n",
       "      <th></th>\n",
       "      <th></th>\n",
       "    </tr>\n",
       "  </thead>\n",
       "  <tbody>\n",
       "    <tr>\n",
       "      <th>145</th>\n",
       "      <td>0.0</td>\n",
       "      <td>0.0</td>\n",
       "      <td>131.0</td>\n",
       "      <td>445.0</td>\n",
       "      <td>74.0</td>\n",
       "      <td>157.0</td>\n",
       "      <td>67.0</td>\n",
       "      <td>83.0</td>\n",
       "      <td>99.0</td>\n",
       "      <td>102.0</td>\n",
       "      <td>...</td>\n",
       "      <td>0.0</td>\n",
       "      <td>252.0</td>\n",
       "      <td>100.0</td>\n",
       "      <td>0.0</td>\n",
       "      <td>101.0</td>\n",
       "      <td>156.0</td>\n",
       "      <td>173.0</td>\n",
       "      <td>5450.0</td>\n",
       "      <td>0.0</td>\n",
       "      <td>132.0</td>\n",
       "    </tr>\n",
       "    <tr>\n",
       "      <th>211</th>\n",
       "      <td>188.0</td>\n",
       "      <td>0.0</td>\n",
       "      <td>0.0</td>\n",
       "      <td>0.0</td>\n",
       "      <td>0.0</td>\n",
       "      <td>0.0</td>\n",
       "      <td>0.0</td>\n",
       "      <td>0.0</td>\n",
       "      <td>0.0</td>\n",
       "      <td>0.0</td>\n",
       "      <td>...</td>\n",
       "      <td>114.0</td>\n",
       "      <td>0.0</td>\n",
       "      <td>0.0</td>\n",
       "      <td>103.0</td>\n",
       "      <td>0.0</td>\n",
       "      <td>0.0</td>\n",
       "      <td>0.0</td>\n",
       "      <td>0.0</td>\n",
       "      <td>80.0</td>\n",
       "      <td>0.0</td>\n",
       "    </tr>\n",
       "    <tr>\n",
       "      <th>1539</th>\n",
       "      <td>0.0</td>\n",
       "      <td>679.0</td>\n",
       "      <td>0.0</td>\n",
       "      <td>0.0</td>\n",
       "      <td>0.0</td>\n",
       "      <td>0.0</td>\n",
       "      <td>0.0</td>\n",
       "      <td>0.0</td>\n",
       "      <td>0.0</td>\n",
       "      <td>0.0</td>\n",
       "      <td>...</td>\n",
       "      <td>0.0</td>\n",
       "      <td>0.0</td>\n",
       "      <td>0.0</td>\n",
       "      <td>0.0</td>\n",
       "      <td>0.0</td>\n",
       "      <td>0.0</td>\n",
       "      <td>0.0</td>\n",
       "      <td>0.0</td>\n",
       "      <td>0.0</td>\n",
       "      <td>0.0</td>\n",
       "    </tr>\n",
       "  </tbody>\n",
       "</table>\n",
       "<p>3 rows × 50 columns</p>\n",
       "</div>"
      ],
      "text/plain": [
       "artistID  16297   34924   64135   71619   76710   77532   98678   124806  \\\n",
       "userID                                                                     \n",
       "145          0.0     0.0   131.0   445.0    74.0   157.0    67.0    83.0   \n",
       "211        188.0     0.0     0.0     0.0     0.0     0.0     0.0     0.0   \n",
       "1539         0.0   679.0     0.0     0.0     0.0     0.0     0.0     0.0   \n",
       "\n",
       "artistID  138281  158427  ...  832710  838773  853711  880536  880675  923116  \\\n",
       "userID                    ...                                                   \n",
       "145         99.0   102.0  ...     0.0   252.0   100.0     0.0   101.0   156.0   \n",
       "211          0.0     0.0  ...   114.0     0.0     0.0   103.0     0.0     0.0   \n",
       "1539         0.0     0.0  ...     0.0     0.0     0.0     0.0     0.0     0.0   \n",
       "\n",
       "artistID  942223  955087  990451  998913  \n",
       "userID                                    \n",
       "145        173.0  5450.0     0.0   132.0  \n",
       "211          0.0     0.0    80.0     0.0  \n",
       "1539         0.0     0.0     0.0     0.0  \n",
       "\n",
       "[3 rows x 50 columns]"
      ]
     },
     "execution_count": 6,
     "metadata": {},
     "output_type": "execute_result"
    }
   ],
   "source": [
    "new_df1"
   ]
  },
  {
   "cell_type": "code",
   "execution_count": 7,
   "id": "c76273f3",
   "metadata": {},
   "outputs": [
    {
     "data": {
      "text/plain": [
       "104.58666666666667"
      ]
     },
     "execution_count": 7,
     "metadata": {},
     "output_type": "execute_result"
    }
   ],
   "source": [
    "# R avg \n",
    "r_avg = (pd.DataFrame(new_df1).to_numpy()).mean()\n",
    "r_avg"
   ]
  },
  {
   "cell_type": "code",
   "execution_count": 8,
   "id": "65674b91",
   "metadata": {},
   "outputs": [],
   "source": [
    "result = pd.concat([new_df1, new_test_df1])\n",
    "# res1 = result.select_dtypes(np.number).max(level=0)\n",
    "res2 = result.groupby(level = 0).median()\n",
    "\n",
    "cols = sorted(list(res2.columns))\n",
    "sortes3 = res2[cols]\n",
    "sortes3.fillna(-2, inplace=True)"
   ]
  },
  {
   "cell_type": "code",
   "execution_count": 9,
   "id": "4f1d82c9",
   "metadata": {},
   "outputs": [
    {
     "data": {
      "text/plain": [
       "array([[   0.,    0.,  131.,  445.,   74.,  157.,   67.,   83.,   99.,\n",
       "         102.,  508.,    0.,  264.,    0.,  156.,    0.,   94.,    0.,\n",
       "         103.,   78.,   74.,   -1.,  178.,    0.,  100.,  423.,  150.,\n",
       "         105.,    0.,   91.,  112.,    0.,  147.,  272.,  187.,    0.,\n",
       "         114.,  263.,    0.,  138.,  197.,    0.,  252.,  100.,    0.,\n",
       "         101.,  156.,  173., 5450.,    0.,  132.],\n",
       "       [ 188.,    0.,    0.,    0.,    0.,    0.,    0.,    0.,    0.,\n",
       "           0.,    0.,    0.,    0.,    0.,    0.,    0.,    0.,  239.,\n",
       "           0.,    0.,    0.,   -2.,    0.,   98.,    0.,    0.,    0.,\n",
       "           0.,  192.,    0.,    0.,  172.,    0.,    0.,    0.,  133.,\n",
       "           0.,    0.,  293.,    0.,    0.,  114.,    0.,    0.,  103.,\n",
       "           0.,    0.,    0.,    0.,   80.,    0.],\n",
       "       [   0.,  679.,    0.,    0.,    0.,    0.,    0.,    0.,    0.,\n",
       "           0.,    0.,  602.,    0.,  577.,    0.,  942.,    0.,    0.,\n",
       "           0.,    0.,    0.,   -2.,    0.,    0.,    0.,    0.,    0.,\n",
       "           0.,    0.,    0.,    0.,    0.,    0.,    0.,    0.,    0.,\n",
       "           0.,    0.,    0.,    0.,    0.,    0.,    0.,    0.,    0.,\n",
       "           0.,    0.,    0.,    0.,    0.,    0.]])"
      ]
     },
     "execution_count": 9,
     "metadata": {},
     "output_type": "execute_result"
    }
   ],
   "source": [
    "mtrx_R = pd.DataFrame(sortes3).to_numpy()\n",
    "mtrx_R # the R matrix\n"
   ]
  },
  {
   "cell_type": "code",
   "execution_count": 10,
   "id": "e13e7514",
   "metadata": {},
   "outputs": [],
   "source": [
    "# equations:\n",
    "# r_hat = r_avg + b_u + b_ i\n",
    "# min || r_hat - r ||^2\n",
    "# (A_T * A) * b = A_T * c --> b = ((A_T * A)^ -1) * (A_T * c)\n",
    "# need to find out the A matrix"
   ]
  },
  {
   "cell_type": "code",
   "execution_count": 11,
   "id": "38de1ffd",
   "metadata": {},
   "outputs": [],
   "source": [
    "lst = [[5,-1,5,2], [-1,4,4,4], [2,4,3,3]]\n",
    "mtrx_R_tutorial = np.array(lst)\n",
    "r_avg_tut = 3.6"
   ]
  },
  {
   "cell_type": "code",
   "execution_count": 12,
   "id": "164e1074",
   "metadata": {},
   "outputs": [],
   "source": [
    "def calc_deviation_b(arr):\n",
    "    n = len(arr[arr >= 0])\n",
    "    if n == 0:\n",
    "        return 0\n",
    "    sum_arr = 0\n",
    "    for i in range(len(arr)):\n",
    "        if arr[i] >= 0:\n",
    "            sum_arr += arr[i]\n",
    "    return sum_arr/n"
   ]
  },
  {
   "cell_type": "code",
   "execution_count": 13,
   "id": "50adff61",
   "metadata": {},
   "outputs": [
    {
     "name": "stdout",
     "output_type": "stream",
     "text": [
      "[0.3999999999999999, 0.3999999999999999, -0.6000000000000001]\n",
      "[-0.10000000000000009, 0.3999999999999999, 0.3999999999999999, -0.6000000000000001]\n"
     ]
    }
   ],
   "source": [
    "b_u = []\n",
    "b_i = []\n",
    "\n",
    "b_u_tut = []\n",
    "b_i_tut = []\n",
    "for i in range(len(mtrx_R)):\n",
    "    b_u_tut.append((calc_deviation_b(mtrx_R_tutorial[i]) - r_avg_tut))\n",
    "\n",
    "print(b_u_tut)\n",
    "sortes4 = sortes3.T\n",
    "mtrx_R_transpose = pd.DataFrame(sortes4).to_numpy()\n",
    "mtrx_R_tutorial_tr = mtrx_R_tutorial.T\n",
    "\n",
    "for i in range(len(mtrx_R_tutorial_tr)):\n",
    "    b_i_tut.append((calc_deviation_b(mtrx_R_tutorial_tr[i]) - r_avg_tut))\n",
    "print(b_i_tut)"
   ]
  },
  {
   "cell_type": "code",
   "execution_count": 14,
   "id": "425fe4fc",
   "metadata": {},
   "outputs": [
    {
     "data": {
      "text/plain": [
       "array([[3.9, 4.4, 4.4, 3.4],\n",
       "       [3.9, 4.4, 4.4, 3.4],\n",
       "       [2.9, 3.4, 3.4, 2.4]])"
      ]
     },
     "execution_count": 14,
     "metadata": {},
     "output_type": "execute_result"
    }
   ],
   "source": [
    "mtrx_R_hat = np.zeros((len(mtrx_R), len(mtrx_R[0])))\n",
    "\n",
    "mtrx_R_hat_tut = np.zeros((len(mtrx_R_tutorial), len(mtrx_R_tutorial[0])))\n",
    "\n",
    "for i in range(len(mtrx_R_tutorial)):\n",
    "     for j in range(len(mtrx_R_tutorial[0])):\n",
    "#         if mtrx_R_tutorial[i,j] == -1:\n",
    "#             mtrx_R_hat_tut[i,j] = -1\n",
    "#         elif mtrx_R_tutorial[i,j] == -2:\n",
    "#             mtrx_R_hat_tut[i,j] = -2\n",
    "#         else:\n",
    "        mtrx_R_hat_tut[i,j] = r_avg_tut + b_u_tut[i] + b_i_tut[j]\n",
    "mtrx_R_hat_tut"
   ]
  },
  {
   "cell_type": "code",
   "execution_count": 28,
   "id": "2637d070",
   "metadata": {},
   "outputs": [
    {
     "data": {
      "text/plain": [
       "array([[ 1.1, -1. ,  0.6, -1.4],\n",
       "       [-1. , -0.4, -0.4,  0.6],\n",
       "       [-0.9,  0.6, -0.4,  0.6]])"
      ]
     },
     "execution_count": 28,
     "metadata": {},
     "output_type": "execute_result"
    }
   ],
   "source": [
    "mtrx_R_tilda = mtrx_R - mtrx_R_hat\n",
    "mtrx_R_tilda_tut = mtrx_R_tutorial - mtrx_R_hat_tut\n",
    "mtrx_R_tilda_tut[0,1] = -1\n",
    "mtrx_R_tilda_tut[1, 0] = -1\n",
    "mtrx_R_tilda_tut"
   ]
  },
  {
   "cell_type": "code",
   "execution_count": 33,
   "id": "77d379fb",
   "metadata": {},
   "outputs": [],
   "source": [
    "def special_inner_profuct(mtrx):\n",
    "    mtrx_transpose = mtrx.T\n",
    "    D = np.zeros((len(mtrx[0]), len(mtrx[0])))\n",
    "    for i in range(len(mtrx_transpose)):\n",
    "        for j in range(len(mtrx_transpose)):\n",
    "            mone = np.dot(mtrx_transpose[i], mtrx_transpose[j])\n",
    "            x = 0\n",
    "            y = 0\n",
    "            for k in range(len(mtrx_transpose[0])):\n",
    "                \n",
    "                if mtrx_transpose[i][k] != 0 and mtrx_transpose[j][k] != 0:\n",
    "                    x += (mtrx_transpose[i][k] ** 2)\n",
    "                    y += (mtrx_transpose[j][k] ** 2)     \n",
    "            norm1 = x ** 0.5\n",
    "            norm2 = y ** 0.5\n",
    "            \n",
    "            mechane = norm1 * norm2\n",
    "            D[i,j] = mone / mechane\n",
    "            \n",
    "            return\n",
    "            \n",
    "    return D\n",
    "                 "
   ]
  },
  {
   "cell_type": "code",
   "execution_count": 34,
   "id": "9ca4118d",
   "metadata": {},
   "outputs": [],
   "source": [
    "def get_nearest(similarities, n):\n",
    "    sim_arr = []\n",
    "    \n",
    "    for i in range(len(similarities)):\n",
    "        array = similarities[i].copy()\n",
    "        array_non_neg = array.copy()\n",
    "\n",
    "        for j in range(len(array)):\n",
    "            if int(array_non_neg[j]) == 1 or int(array_non_neg[j]) == -1:\n",
    "                array_non_neg[j] = 0\n",
    "            if array_non_neg[j] < 0:\n",
    "                array_non_neg[j] = array_non_neg[j] * (-1)\n",
    "\n",
    "        ind = np.argpartition(array_non_neg, -2)[-2:]\n",
    "        \n",
    "        top2 = array[sorted(ind)]\n",
    "        sim_arr.append((top2, sorted(ind)))\n",
    "\n",
    "    \n",
    "    return sim_arr\n",
    "\n",
    "# res = []\n",
    "#     dct = {}\n",
    "#     for x in range(0, 2):\n",
    "#         largeNum = 0\n",
    "#         largeidx = 0 \n",
    "#         for y in range(len(array)):\n",
    "#             if array[y] == 1:\n",
    "#                 continue\n",
    "#             elif np.abs(array[y]) > np.abs(largeNum):\n",
    "#                 largeNum = array[y]\n",
    "#                 largeidx = y\n",
    "#         res.append((largeNum, largeidx))\n",
    "#         array.remove(largeNum)\n",
    "#     return res"
   ]
  },
  {
   "cell_type": "code",
   "execution_count": 35,
   "id": "58230b55",
   "metadata": {},
   "outputs": [],
   "source": [
    "# def get_final_R(mtrx_R_hat, mtrx_R_tilda, similiraties):\n",
    "#     mtrx_R_final = np.zeros((len(mtrx_R_hat), len(mtrx_R_hat[0])))\n",
    "#     for i in range(len(mtrx_R_hat)):\n",
    "#         for j in range(len(mtrx_R_hat[0])):\n",
    "#             if mtrx_R_hat[i,j] == -2:\n",
    "#                 continue\n",
    "#             else:\n",
    "#                 d_nearest_tuple = get_nearest(j, similarities)\n",
    "#                 d_nearest = []            \n",
    "#                 for k in range(len(d_nearest_tuple)):\n",
    "#                     d_nearest.append(d_nearest_tuple[k][0])\n",
    "#                 r_tilda = [mtrx_R_tilda[i][d_nearest_tuple[0][1]],mtrx_R_tilda[i][d_nearest_tuple[1][1]]]\n",
    "#                 mtrx_R_final[i,j] = mtrx_R_hat[i,j] + np.dot(r_tilda,d_nearest)\n",
    "    \n",
    "# #     an_array = np.where(mtrx_R_final < 0, 0, mtrx_R_final)\n",
    "#     return mtrx_R_final\n",
    "\n",
    "# #,mtrx_R_tilda[i][d_nearest_tuple[2][1]]]\n",
    "\n",
    "def get_final_R(mtrx_R_hat, mtrx_R_tilda, similiraties):\n",
    "    nearest = get_nearest(similarities, 2)\n",
    "   \n",
    "    mtrx_R_final = np.zeros((len(mtrx_R_hat), len(mtrx_R_hat[0])))\n",
    "\n",
    "    for i in range(len(mtrx_R_hat)):\n",
    "        for j in range(len(mtrx_R_hat[0])):\n",
    "            if (i,j) != (0,1) and (i,j) != (1,0):\n",
    "                mtrx_R_final[i,j] = mtrx_R_hat[i,j]\n",
    "                continue\n",
    "            \n",
    "            most_similar_mvs_to_j = nearest[j][1]\n",
    "           \n",
    "            r_tilda  = (mtrx_R_tilda[i][most_similar_mvs_to_j])\n",
    "            \n",
    "            mone1 = np.dot(nearest[j][0], r_tilda)\n",
    "            \n",
    "            mechane1 = 0\n",
    "            for k in range(len(nearest[j][0])):\n",
    "                mechane1 += abs(nearest[j][0][k])\n",
    "                \n",
    "            print(r_tilda)\n",
    "            print(nearest[j][0])\n",
    "#             print(mone1)\n",
    "#             print(mechane1) \n",
    "#             print(mone1/mechane1)\n",
    "#             print(mtrx_R_hat[i,j])\n",
    "                \n",
    "            \n",
    "            mtrx_R_final[i,j] = mtrx_R_hat[i,j] + mone1/mechane1\n",
    "            print(mtrx_R_final[i,j])\n",
    "    return mtrx_R_final"
   ]
  },
  {
   "cell_type": "code",
   "execution_count": 36,
   "id": "9d8484cf",
   "metadata": {},
   "outputs": [
    {
     "ename": "TypeError",
     "evalue": "object of type 'NoneType' has no len()",
     "output_type": "error",
     "traceback": [
      "\u001b[1;31m---------------------------------------------------------------------------\u001b[0m",
      "\u001b[1;31mTypeError\u001b[0m                                 Traceback (most recent call last)",
      "\u001b[1;32m~\\AppData\\Local\\Temp/ipykernel_40648/3354976706.py\u001b[0m in \u001b[0;36m<module>\u001b[1;34m\u001b[0m\n\u001b[0;32m      1\u001b[0m \u001b[0msimilarities\u001b[0m \u001b[1;33m=\u001b[0m \u001b[0mspecial_inner_profuct\u001b[0m\u001b[1;33m(\u001b[0m\u001b[0mmtrx_R_tilda_tut\u001b[0m\u001b[1;33m)\u001b[0m\u001b[1;33m\u001b[0m\u001b[1;33m\u001b[0m\u001b[0m\n\u001b[1;32m----> 2\u001b[1;33m \u001b[0mm\u001b[0m \u001b[1;33m=\u001b[0m \u001b[0mget_final_R\u001b[0m\u001b[1;33m(\u001b[0m\u001b[0mmtrx_R_hat_tut\u001b[0m\u001b[1;33m,\u001b[0m \u001b[0mmtrx_R_tilda_tut\u001b[0m\u001b[1;33m,\u001b[0m \u001b[0msimilarities\u001b[0m\u001b[1;33m)\u001b[0m\u001b[1;33m\u001b[0m\u001b[1;33m\u001b[0m\u001b[0m\n\u001b[0m\u001b[0;32m      3\u001b[0m \u001b[0mm\u001b[0m\u001b[1;33m\u001b[0m\u001b[1;33m\u001b[0m\u001b[0m\n",
      "\u001b[1;32m~\\AppData\\Local\\Temp/ipykernel_40648/3405547742.py\u001b[0m in \u001b[0;36mget_final_R\u001b[1;34m(mtrx_R_hat, mtrx_R_tilda, similiraties)\u001b[0m\n\u001b[0;32m     19\u001b[0m \u001b[1;33m\u001b[0m\u001b[0m\n\u001b[0;32m     20\u001b[0m \u001b[1;32mdef\u001b[0m \u001b[0mget_final_R\u001b[0m\u001b[1;33m(\u001b[0m\u001b[0mmtrx_R_hat\u001b[0m\u001b[1;33m,\u001b[0m \u001b[0mmtrx_R_tilda\u001b[0m\u001b[1;33m,\u001b[0m \u001b[0msimiliraties\u001b[0m\u001b[1;33m)\u001b[0m\u001b[1;33m:\u001b[0m\u001b[1;33m\u001b[0m\u001b[1;33m\u001b[0m\u001b[0m\n\u001b[1;32m---> 21\u001b[1;33m     \u001b[0mnearest\u001b[0m \u001b[1;33m=\u001b[0m \u001b[0mget_nearest\u001b[0m\u001b[1;33m(\u001b[0m\u001b[0msimilarities\u001b[0m\u001b[1;33m,\u001b[0m \u001b[1;36m2\u001b[0m\u001b[1;33m)\u001b[0m\u001b[1;33m\u001b[0m\u001b[1;33m\u001b[0m\u001b[0m\n\u001b[0m\u001b[0;32m     22\u001b[0m \u001b[1;33m\u001b[0m\u001b[0m\n\u001b[0;32m     23\u001b[0m     \u001b[0mmtrx_R_final\u001b[0m \u001b[1;33m=\u001b[0m \u001b[0mnp\u001b[0m\u001b[1;33m.\u001b[0m\u001b[0mzeros\u001b[0m\u001b[1;33m(\u001b[0m\u001b[1;33m(\u001b[0m\u001b[0mlen\u001b[0m\u001b[1;33m(\u001b[0m\u001b[0mmtrx_R_hat\u001b[0m\u001b[1;33m)\u001b[0m\u001b[1;33m,\u001b[0m \u001b[0mlen\u001b[0m\u001b[1;33m(\u001b[0m\u001b[0mmtrx_R_hat\u001b[0m\u001b[1;33m[\u001b[0m\u001b[1;36m0\u001b[0m\u001b[1;33m]\u001b[0m\u001b[1;33m)\u001b[0m\u001b[1;33m)\u001b[0m\u001b[1;33m)\u001b[0m\u001b[1;33m\u001b[0m\u001b[1;33m\u001b[0m\u001b[0m\n",
      "\u001b[1;32m~\\AppData\\Local\\Temp/ipykernel_40648/1581394301.py\u001b[0m in \u001b[0;36mget_nearest\u001b[1;34m(similarities, n)\u001b[0m\n\u001b[0;32m      2\u001b[0m     \u001b[0msim_arr\u001b[0m \u001b[1;33m=\u001b[0m \u001b[1;33m[\u001b[0m\u001b[1;33m]\u001b[0m\u001b[1;33m\u001b[0m\u001b[1;33m\u001b[0m\u001b[0m\n\u001b[0;32m      3\u001b[0m \u001b[1;33m\u001b[0m\u001b[0m\n\u001b[1;32m----> 4\u001b[1;33m     \u001b[1;32mfor\u001b[0m \u001b[0mi\u001b[0m \u001b[1;32min\u001b[0m \u001b[0mrange\u001b[0m\u001b[1;33m(\u001b[0m\u001b[0mlen\u001b[0m\u001b[1;33m(\u001b[0m\u001b[0msimilarities\u001b[0m\u001b[1;33m)\u001b[0m\u001b[1;33m)\u001b[0m\u001b[1;33m:\u001b[0m\u001b[1;33m\u001b[0m\u001b[1;33m\u001b[0m\u001b[0m\n\u001b[0m\u001b[0;32m      5\u001b[0m         \u001b[0marray\u001b[0m \u001b[1;33m=\u001b[0m \u001b[0msimilarities\u001b[0m\u001b[1;33m[\u001b[0m\u001b[0mi\u001b[0m\u001b[1;33m]\u001b[0m\u001b[1;33m.\u001b[0m\u001b[0mcopy\u001b[0m\u001b[1;33m(\u001b[0m\u001b[1;33m)\u001b[0m\u001b[1;33m\u001b[0m\u001b[1;33m\u001b[0m\u001b[0m\n\u001b[0;32m      6\u001b[0m         \u001b[0marray_non_neg\u001b[0m \u001b[1;33m=\u001b[0m \u001b[0marray\u001b[0m\u001b[1;33m.\u001b[0m\u001b[0mcopy\u001b[0m\u001b[1;33m(\u001b[0m\u001b[1;33m)\u001b[0m\u001b[1;33m\u001b[0m\u001b[1;33m\u001b[0m\u001b[0m\n",
      "\u001b[1;31mTypeError\u001b[0m: object of type 'NoneType' has no len()"
     ]
    }
   ],
   "source": [
    "similarities = special_inner_profuct(mtrx_R_tilda_tut)\n",
    "m = get_final_R(mtrx_R_hat_tut, mtrx_R_tilda_tut, similarities)\n",
    "m"
   ]
  },
  {
   "cell_type": "code",
   "execution_count": 20,
   "id": "8d31ae81",
   "metadata": {},
   "outputs": [
    {
     "name": "stdout",
     "output_type": "stream",
     "text": [
      "[(array([1.       , 0.7083122]), [0, 2]), (array([-0.73901232,  0.86111643]), [2, 3]), (array([-0.73901232, -0.9778046 ]), [1, 3]), (array([ 0.86111643, -0.9778046 ]), [1, 2])]\n"
     ]
    }
   ],
   "source": [
    "print(get_nearest(similarities, 2))"
   ]
  },
  {
   "cell_type": "code",
   "execution_count": 21,
   "id": "a593a286",
   "metadata": {},
   "outputs": [
    {
     "data": {
      "text/plain": [
       "array([[ 1.        , -0.16261829,  0.7083122 , -0.60103427],\n",
       "       [-0.16261829,  1.        , -0.73901232,  0.86111643],\n",
       "       [ 0.7083122 , -0.73901232,  1.        , -0.9778046 ],\n",
       "       [-0.60103427,  0.86111643, -0.9778046 ,  1.        ]])"
      ]
     },
     "execution_count": 21,
     "metadata": {},
     "output_type": "execute_result"
    }
   ],
   "source": [
    "similarities"
   ]
  },
  {
   "cell_type": "code",
   "execution_count": 22,
   "id": "d0354873",
   "metadata": {},
   "outputs": [
    {
     "data": {
      "text/plain": [
       "array([[ 1.1, -5.4,  0.6, -1.4],\n",
       "       [-4.9, -0.4, -0.4,  0.6],\n",
       "       [-0.9,  0.6, -0.4,  0.6]])"
      ]
     },
     "execution_count": 22,
     "metadata": {},
     "output_type": "execute_result"
    }
   ],
   "source": [
    "mtrx_R_tilda_tut"
   ]
  },
  {
   "cell_type": "code",
   "execution_count": 23,
   "id": "7a7e451c",
   "metadata": {},
   "outputs": [
    {
     "data": {
      "text/plain": [
       "array([[3.9, 4.4, 4.4, 3.4],\n",
       "       [3.9, 4.4, 4.4, 3.4],\n",
       "       [2.9, 3.4, 3.4, 2.4]])"
      ]
     },
     "execution_count": 23,
     "metadata": {},
     "output_type": "execute_result"
    }
   ],
   "source": [
    "mtrx_R_hat_tut"
   ]
  },
  {
   "cell_type": "code",
   "execution_count": null,
   "id": "d0fb2d10",
   "metadata": {},
   "outputs": [],
   "source": []
  }
 ],
 "metadata": {
  "kernelspec": {
   "display_name": "Python 3 (ipykernel)",
   "language": "python",
   "name": "python3"
  },
  "language_info": {
   "codemirror_mode": {
    "name": "ipython",
    "version": 3
   },
   "file_extension": ".py",
   "mimetype": "text/x-python",
   "name": "python",
   "nbconvert_exporter": "python",
   "pygments_lexer": "ipython3",
   "version": "3.10.4"
  }
 },
 "nbformat": 4,
 "nbformat_minor": 5
}
