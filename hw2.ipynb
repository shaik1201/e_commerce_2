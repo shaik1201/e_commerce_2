{
 "cells": [
  {
   "cell_type": "code",
   "execution_count": 1,
   "id": "46baf48c",
   "metadata": {},
   "outputs": [],
   "source": [
    "import numpy as np\n",
    "import pandas as pd\n",
    "import math\n",
    "np.set_printoptions(suppress=True)"
   ]
  },
  {
   "cell_type": "code",
   "execution_count": 2,
   "id": "71cfeb0c",
   "metadata": {},
   "outputs": [],
   "source": [
    "lst = [[5,-1,5,2], [-1,4,4,4], [2,4,3,3]]\n",
    "mtrx_R_tutorial = np.array(lst)\n",
    "r_avg_tut = 3.6"
   ]
  },
  {
   "cell_type": "code",
   "execution_count": 3,
   "id": "d027334a",
   "metadata": {},
   "outputs": [],
   "source": [
    "def calc_deviation_b(arr):\n",
    "    n = len(arr[arr >= 0])\n",
    "    if n == 0:\n",
    "        return 0\n",
    "    sum_arr = 0\n",
    "    for i in range(len(arr)):\n",
    "        if arr[i] >= 0:\n",
    "            sum_arr += arr[i]\n",
    "    return sum_arr/n"
   ]
  },
  {
   "cell_type": "code",
   "execution_count": 4,
   "id": "e26d745a",
   "metadata": {},
   "outputs": [],
   "source": [
    "b_u_tut = []\n",
    "b_i_tut = []\n",
    "for i in range(len(mtrx_R_tutorial)):\n",
    "    b_u_tut.append((calc_deviation_b(mtrx_R_tutorial[i]) - r_avg_tut))\n",
    "\n",
    "mtrx_R_tutorial_tr = mtrx_R_tutorial.T\n",
    "\n",
    "for i in range(len(mtrx_R_tutorial_tr)):\n",
    "    b_i_tut.append((calc_deviation_b(mtrx_R_tutorial_tr[i]) - r_avg_tut))"
   ]
  },
  {
   "cell_type": "code",
   "execution_count": 5,
   "id": "12ab4fa4",
   "metadata": {},
   "outputs": [],
   "source": [
    "# create R_hat\n",
    "mtrx_R_hat_tut = np.zeros((len(mtrx_R_tutorial), len(mtrx_R_tutorial[0])))\n",
    "for i in range(len(mtrx_R_tutorial)):\n",
    "     for j in range(len(mtrx_R_tutorial[0])):\n",
    "        # here don't use -1 yet.\n",
    "        mtrx_R_hat_tut[i,j] = r_avg_tut + b_u_tut[i] + b_i_tut[j]"
   ]
  },
  {
   "cell_type": "code",
   "execution_count": 6,
   "id": "c7d59817",
   "metadata": {},
   "outputs": [],
   "source": [
    "# create R_tilda\n",
    "mtrx_R_tilda_tut = mtrx_R_tutorial - mtrx_R_hat_tut\n",
    "\n",
    "# put -1 after the sub.\n",
    "# here done manualy but we can extract the indexes which need to be filled and do it for all of them.\n",
    "\n",
    "mtrx_R_tilda_tut[0,1] = -1\n",
    "mtrx_R_tilda_tut[1, 0] = -1"
   ]
  },
  {
   "cell_type": "code",
   "execution_count": 7,
   "id": "86bab91d",
   "metadata": {},
   "outputs": [],
   "source": [
    "def special_inner_profuct(mtrx):\n",
    "    mtrx_transpose = mtrx.T\n",
    "    mtrx_R_transpose_copy = mtrx_transpose.copy()\n",
    "    mtrx_R_transpose_copy = np.where(mtrx_R_transpose_copy == -1, 0, mtrx_R_transpose_copy)\n",
    "    D = np.zeros((len(mtrx[0]), len(mtrx[0])))\n",
    "    \n",
    "    for i in range(len(mtrx_R_transpose_copy)):\n",
    "        for j in range(len(mtrx_R_transpose_copy)):\n",
    "            mone = np.dot(mtrx_R_transpose_copy[i], mtrx_R_transpose_copy[j])\n",
    "            x = 0\n",
    "            y = 0\n",
    "            for k in range(len(mtrx_R_transpose_copy[0])):\n",
    "                \n",
    "                if mtrx_R_transpose_copy[i][k] != 0 and mtrx_R_transpose_copy[j][k] != 0:\n",
    "                    x += (mtrx_R_transpose_copy[i][k] ** 2)\n",
    "                    y += (mtrx_R_transpose_copy[j][k] ** 2)     \n",
    "            norm1 = x ** 0.5\n",
    "            norm2 = y ** 0.5\n",
    "            \n",
    "            mechane = norm1 * norm2\n",
    "            D[i,j] = mone / mechane\n",
    "\n",
    "            \n",
    "    return D"
   ]
  },
  {
   "cell_type": "code",
   "execution_count": 8,
   "id": "34aa2d74",
   "metadata": {},
   "outputs": [],
   "source": [
    "def get_nearest(similarities, n):\n",
    "    # n is the number of neighboors we want.\n",
    "    \n",
    "    sim_arr = []\n",
    "    \n",
    "    for i in range(len(similarities)):\n",
    "        array = similarities[i].copy()\n",
    "        array_non_neg = array.copy()\n",
    "        for j in range(len(array)):\n",
    "            if int(array_non_neg[j]) == 1 or int(array_non_neg[j]) == -1:\n",
    "                array_non_neg[j] = 0\n",
    "            if array_non_neg[j] < 0:\n",
    "                array_non_neg[j] = array_non_neg[j] * (-1)\n",
    "\n",
    "        ind = np.argpartition(array_non_neg, -2)[-2:]\n",
    "        \n",
    "        top2 = array[sorted(ind)]\n",
    "        sim_arr.append((top2, sorted(ind)))\n",
    "\n",
    "    \n",
    "    return sim_arr"
   ]
  },
  {
   "cell_type": "code",
   "execution_count": 11,
   "id": "b52db073",
   "metadata": {},
   "outputs": [],
   "source": [
    "def get_final_R(mtrx_R_hat, mtrx_R_tilda, similiraties):\n",
    "    nearest = get_nearest(similarities, 2) # get the 2 nearest movies and their indexes.\n",
    "   \n",
    "    mtrx_R_final = np.zeros((len(mtrx_R_hat), len(mtrx_R_hat[0])))\n",
    "\n",
    "    for i in range(len(mtrx_R_hat)):\n",
    "        for j in range(len(mtrx_R_hat[0])):\n",
    "#             if (i,j) != (0,1) and (i,j) != (1,0): # this will be replaced by the indexes we extract (cells which need to be filled)\n",
    "#                 mtrx_R_final[i,j] = mtrx_R_hat[i,j] # only predict for the missing ones.\n",
    "#                 continue\n",
    "            \n",
    "            most_similar_mvs_to_j = nearest[j][1] # similarity indexes.\n",
    "            r_tilda  = (mtrx_R_tilda[i][most_similar_mvs_to_j])\n",
    "            mone1 = np.dot(nearest[j][0], r_tilda)\n",
    "            \n",
    "            mechane1 = 0\n",
    "            for k in range(len(nearest[j][0])):\n",
    "                mechane1 += abs(nearest[j][0][k])\n",
    "                \n",
    "            mtrx_R_final[i,j] = mtrx_R_hat[i,j] + mone1/mechane1\n",
    "    return mtrx_R_final"
   ]
  },
  {
   "cell_type": "code",
   "execution_count": 12,
   "id": "b9cb2764",
   "metadata": {},
   "outputs": [
    {
     "data": {
      "text/plain": [
       "array([[4.89296441, 3.4       , 5.64867535, 2.55218982],\n",
       "       [3.4017589 , 4.9       , 3.59823379, 4.09737221],\n",
       "       [2.4017589 , 3.9       , 2.64867535, 3.04781018]])"
      ]
     },
     "execution_count": 12,
     "metadata": {},
     "output_type": "execute_result"
    }
   ],
   "source": [
    "similarities = special_inner_profuct(mtrx_R_tilda_tut)\n",
    "m = get_final_R(mtrx_R_hat_tut, mtrx_R_tilda_tut, similarities)\n",
    "m"
   ]
  },
  {
   "cell_type": "code",
   "execution_count": null,
   "id": "640fd5b2",
   "metadata": {},
   "outputs": [],
   "source": []
  }
 ],
 "metadata": {
  "kernelspec": {
   "display_name": "Python 3 (ipykernel)",
   "language": "python",
   "name": "python3"
  },
  "language_info": {
   "codemirror_mode": {
    "name": "ipython",
    "version": 3
   },
   "file_extension": ".py",
   "mimetype": "text/x-python",
   "name": "python",
   "nbconvert_exporter": "python",
   "pygments_lexer": "ipython3",
   "version": "3.10.4"
  }
 },
 "nbformat": 4,
 "nbformat_minor": 5
}
