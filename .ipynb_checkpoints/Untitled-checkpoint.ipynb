{
 "cells": [
  {
   "cell_type": "code",
   "execution_count": 1,
   "id": "7fa153fe",
   "metadata": {},
   "outputs": [],
   "source": [
    "import numpy as np\n",
    "import pandas as pd\n",
    "import math\n",
    "\n",
    "user_artist_df = pd.read_csv('user_artist.csv')\n",
    "test_df = pd.read_csv('test.csv')"
   ]
  },
  {
   "cell_type": "code",
   "execution_count": 125,
   "id": "4968dc2e",
   "metadata": {},
   "outputs": [],
   "source": [
    "new_df = (user_artist_df.copy())[0:10]\n",
    "new_test_df = (test_df.copy())\n",
    "mask = (new_test_df['userID'] == 145)\n",
    "mask1 = (new_test_df['userID'] == 145) | (new_test_df['userID'] == 1539)\n",
    "new_test_df = new_test_df[mask]\n",
    "new_test_df['weight'] = -1"
   ]
  },
  {
   "cell_type": "code",
   "execution_count": 126,
   "id": "e6d0121a",
   "metadata": {},
   "outputs": [
    {
     "data": {
      "text/html": [
       "<div>\n",
       "<style scoped>\n",
       "    .dataframe tbody tr th:only-of-type {\n",
       "        vertical-align: middle;\n",
       "    }\n",
       "\n",
       "    .dataframe tbody tr th {\n",
       "        vertical-align: top;\n",
       "    }\n",
       "\n",
       "    .dataframe thead th {\n",
       "        text-align: right;\n",
       "    }\n",
       "</style>\n",
       "<table border=\"1\" class=\"dataframe\">\n",
       "  <thead>\n",
       "    <tr style=\"text-align: right;\">\n",
       "      <th>artistID</th>\n",
       "      <th>430087</th>\n",
       "    </tr>\n",
       "    <tr>\n",
       "      <th>userID</th>\n",
       "      <th></th>\n",
       "    </tr>\n",
       "  </thead>\n",
       "  <tbody>\n",
       "    <tr>\n",
       "      <th>145</th>\n",
       "      <td>-1</td>\n",
       "    </tr>\n",
       "  </tbody>\n",
       "</table>\n",
       "</div>"
      ],
      "text/plain": [
       "artistID  430087\n",
       "userID          \n",
       "145           -1"
      ]
     },
     "execution_count": 126,
     "metadata": {},
     "output_type": "execute_result"
    }
   ],
   "source": [
    "new_test_df1 = pd.pivot_table(new_test_df, values = 'weight', index = ['userID'], columns = ['artistID'])\n",
    "new_test_df1"
   ]
  },
  {
   "cell_type": "code",
   "execution_count": 127,
   "id": "116d4670",
   "metadata": {},
   "outputs": [
    {
     "data": {
      "text/html": [
       "<div>\n",
       "<style scoped>\n",
       "    .dataframe tbody tr th:only-of-type {\n",
       "        vertical-align: middle;\n",
       "    }\n",
       "\n",
       "    .dataframe tbody tr th {\n",
       "        vertical-align: top;\n",
       "    }\n",
       "\n",
       "    .dataframe thead th {\n",
       "        text-align: right;\n",
       "    }\n",
       "</style>\n",
       "<table border=\"1\" class=\"dataframe\">\n",
       "  <thead>\n",
       "    <tr style=\"text-align: right;\">\n",
       "      <th>artistID</th>\n",
       "      <th>64135</th>\n",
       "      <th>71619</th>\n",
       "      <th>76710</th>\n",
       "      <th>77532</th>\n",
       "      <th>98678</th>\n",
       "      <th>124806</th>\n",
       "      <th>138281</th>\n",
       "      <th>158427</th>\n",
       "      <th>161791</th>\n",
       "      <th>172260</th>\n",
       "    </tr>\n",
       "    <tr>\n",
       "      <th>userID</th>\n",
       "      <th></th>\n",
       "      <th></th>\n",
       "      <th></th>\n",
       "      <th></th>\n",
       "      <th></th>\n",
       "      <th></th>\n",
       "      <th></th>\n",
       "      <th></th>\n",
       "      <th></th>\n",
       "      <th></th>\n",
       "    </tr>\n",
       "  </thead>\n",
       "  <tbody>\n",
       "    <tr>\n",
       "      <th>145</th>\n",
       "      <td>131</td>\n",
       "      <td>445</td>\n",
       "      <td>74</td>\n",
       "      <td>157</td>\n",
       "      <td>67</td>\n",
       "      <td>83</td>\n",
       "      <td>99</td>\n",
       "      <td>102</td>\n",
       "      <td>508</td>\n",
       "      <td>264</td>\n",
       "    </tr>\n",
       "  </tbody>\n",
       "</table>\n",
       "</div>"
      ],
      "text/plain": [
       "artistID  64135   71619   76710   77532   98678   124806  138281  158427  \\\n",
       "userID                                                                     \n",
       "145          131     445      74     157      67      83      99     102   \n",
       "\n",
       "artistID  161791  172260  \n",
       "userID                    \n",
       "145          508     264  "
      ]
     },
     "execution_count": 127,
     "metadata": {},
     "output_type": "execute_result"
    }
   ],
   "source": [
    "new_df1 = pd.pivot_table(new_df, values=\"weight\", index=['userID'], columns=[\"artistID\"])\n",
    "new_df1"
   ]
  },
  {
   "cell_type": "code",
   "execution_count": 128,
   "id": "044d0f5f",
   "metadata": {},
   "outputs": [],
   "source": [
    "new_df1.fillna(0, inplace=True)"
   ]
  },
  {
   "cell_type": "code",
   "execution_count": 129,
   "id": "b69fa4c5",
   "metadata": {},
   "outputs": [
    {
     "data": {
      "text/html": [
       "<div>\n",
       "<style scoped>\n",
       "    .dataframe tbody tr th:only-of-type {\n",
       "        vertical-align: middle;\n",
       "    }\n",
       "\n",
       "    .dataframe tbody tr th {\n",
       "        vertical-align: top;\n",
       "    }\n",
       "\n",
       "    .dataframe thead th {\n",
       "        text-align: right;\n",
       "    }\n",
       "</style>\n",
       "<table border=\"1\" class=\"dataframe\">\n",
       "  <thead>\n",
       "    <tr style=\"text-align: right;\">\n",
       "      <th>artistID</th>\n",
       "      <th>64135</th>\n",
       "      <th>71619</th>\n",
       "      <th>76710</th>\n",
       "      <th>77532</th>\n",
       "      <th>98678</th>\n",
       "      <th>124806</th>\n",
       "      <th>138281</th>\n",
       "      <th>158427</th>\n",
       "      <th>161791</th>\n",
       "      <th>172260</th>\n",
       "    </tr>\n",
       "    <tr>\n",
       "      <th>userID</th>\n",
       "      <th></th>\n",
       "      <th></th>\n",
       "      <th></th>\n",
       "      <th></th>\n",
       "      <th></th>\n",
       "      <th></th>\n",
       "      <th></th>\n",
       "      <th></th>\n",
       "      <th></th>\n",
       "      <th></th>\n",
       "    </tr>\n",
       "  </thead>\n",
       "  <tbody>\n",
       "    <tr>\n",
       "      <th>145</th>\n",
       "      <td>131</td>\n",
       "      <td>445</td>\n",
       "      <td>74</td>\n",
       "      <td>157</td>\n",
       "      <td>67</td>\n",
       "      <td>83</td>\n",
       "      <td>99</td>\n",
       "      <td>102</td>\n",
       "      <td>508</td>\n",
       "      <td>264</td>\n",
       "    </tr>\n",
       "  </tbody>\n",
       "</table>\n",
       "</div>"
      ],
      "text/plain": [
       "artistID  64135   71619   76710   77532   98678   124806  138281  158427  \\\n",
       "userID                                                                     \n",
       "145          131     445      74     157      67      83      99     102   \n",
       "\n",
       "artistID  161791  172260  \n",
       "userID                    \n",
       "145          508     264  "
      ]
     },
     "execution_count": 129,
     "metadata": {},
     "output_type": "execute_result"
    }
   ],
   "source": [
    "new_df1"
   ]
  },
  {
   "cell_type": "code",
   "execution_count": 130,
   "id": "e338a104",
   "metadata": {},
   "outputs": [
    {
     "data": {
      "text/html": [
       "<div>\n",
       "<style scoped>\n",
       "    .dataframe tbody tr th:only-of-type {\n",
       "        vertical-align: middle;\n",
       "    }\n",
       "\n",
       "    .dataframe tbody tr th {\n",
       "        vertical-align: top;\n",
       "    }\n",
       "\n",
       "    .dataframe thead th {\n",
       "        text-align: right;\n",
       "    }\n",
       "</style>\n",
       "<table border=\"1\" class=\"dataframe\">\n",
       "  <thead>\n",
       "    <tr style=\"text-align: right;\">\n",
       "      <th>artistID</th>\n",
       "      <th>430087</th>\n",
       "    </tr>\n",
       "    <tr>\n",
       "      <th>userID</th>\n",
       "      <th></th>\n",
       "    </tr>\n",
       "  </thead>\n",
       "  <tbody>\n",
       "    <tr>\n",
       "      <th>145</th>\n",
       "      <td>-1</td>\n",
       "    </tr>\n",
       "  </tbody>\n",
       "</table>\n",
       "</div>"
      ],
      "text/plain": [
       "artistID  430087\n",
       "userID          \n",
       "145           -1"
      ]
     },
     "execution_count": 130,
     "metadata": {},
     "output_type": "execute_result"
    }
   ],
   "source": [
    "new_test_df1"
   ]
  },
  {
   "cell_type": "code",
   "execution_count": 139,
   "id": "c76273f3",
   "metadata": {},
   "outputs": [
    {
     "data": {
      "text/plain": [
       "193.0"
      ]
     },
     "execution_count": 139,
     "metadata": {},
     "output_type": "execute_result"
    }
   ],
   "source": [
    "# R avg \n",
    "r_avg = (pd.DataFrame(new_df1).to_numpy()).mean()\n",
    "r_avg"
   ]
  },
  {
   "cell_type": "code",
   "execution_count": 140,
   "id": "65674b91",
   "metadata": {},
   "outputs": [],
   "source": [
    "result = pd.concat([new_df1, new_test_df1])\n",
    "# res1 = result.select_dtypes(np.number).max(level=0)\n",
    "res2 = result.groupby(level = 0).median()\n",
    "\n",
    "cols = sorted(list(res2.columns))\n",
    "sortes3 = res2[cols]"
   ]
  },
  {
   "cell_type": "code",
   "execution_count": 141,
   "id": "4f1d82c9",
   "metadata": {},
   "outputs": [
    {
     "data": {
      "text/plain": [
       "array([[131., 445.,  74., 157.,  67.,  83.,  99., 102., 508., 264.,  -1.]])"
      ]
     },
     "execution_count": 141,
     "metadata": {},
     "output_type": "execute_result"
    }
   ],
   "source": [
    "mtrx_R = pd.DataFrame(sortes3).to_numpy()\n",
    "mtrx_R # the R matrix"
   ]
  },
  {
   "cell_type": "code",
   "execution_count": 142,
   "id": "e13e7514",
   "metadata": {},
   "outputs": [],
   "source": [
    "# equations:\n",
    "# r_hat = r_avg + b_u + b_ i\n",
    "# min || r_hat - r ||^2\n",
    "# (A_T * A) * b = A_T * c --> b = ((A_T * A)^ -1) * (A_T * c)\n",
    "# need to find out the A matrix"
   ]
  },
  {
   "cell_type": "code",
   "execution_count": 163,
   "id": "17cd085b",
   "metadata": {},
   "outputs": [
    {
     "ename": "IndexError",
     "evalue": "index 10 is out of bounds for axis 0 with size 10",
     "output_type": "error",
     "traceback": [
      "\u001b[1;31m---------------------------------------------------------------------------\u001b[0m",
      "\u001b[1;31mIndexError\u001b[0m                                Traceback (most recent call last)",
      "\u001b[1;32m~\\AppData\\Local\\Temp/ipykernel_24108/232198967.py\u001b[0m in \u001b[0;36m<module>\u001b[1;34m\u001b[0m\n\u001b[0;32m     13\u001b[0m \u001b[0mk\u001b[0m \u001b[1;33m=\u001b[0m \u001b[1;36m0\u001b[0m\u001b[1;33m\u001b[0m\u001b[1;33m\u001b[0m\u001b[0m\n\u001b[0;32m     14\u001b[0m \u001b[1;32mwhile\u001b[0m\u001b[1;33m(\u001b[0m\u001b[0mi\u001b[0m \u001b[1;33m<=\u001b[0m \u001b[0mn\u001b[0m\u001b[1;33m*\u001b[0m\u001b[0mm\u001b[0m\u001b[1;33m)\u001b[0m\u001b[1;33m:\u001b[0m\u001b[1;33m\u001b[0m\u001b[1;33m\u001b[0m\u001b[0m\n\u001b[1;32m---> 15\u001b[1;33m     \u001b[0mA\u001b[0m\u001b[1;33m[\u001b[0m\u001b[0mcounter_num_user\u001b[0m\u001b[1;33m]\u001b[0m\u001b[1;33m[\u001b[0m\u001b[0mk\u001b[0m\u001b[1;33m]\u001b[0m \u001b[1;33m=\u001b[0m \u001b[1;36m1\u001b[0m\u001b[1;33m\u001b[0m\u001b[1;33m\u001b[0m\u001b[0m\n\u001b[0m\u001b[0;32m     16\u001b[0m     \u001b[0mA\u001b[0m\u001b[1;33m[\u001b[0m\u001b[0mcounter_num_user\u001b[0m\u001b[1;33m]\u001b[0m\u001b[1;33m[\u001b[0m\u001b[0mcounter_num_artist\u001b[0m \u001b[1;33m+\u001b[0m \u001b[0mnum_biases_users\u001b[0m\u001b[1;33m]\u001b[0m \u001b[1;33m=\u001b[0m \u001b[1;36m1\u001b[0m\u001b[1;33m\u001b[0m\u001b[1;33m\u001b[0m\u001b[0m\n\u001b[0;32m     17\u001b[0m     \u001b[0mcounter_num_artist\u001b[0m \u001b[1;33m+=\u001b[0m \u001b[1;36m1\u001b[0m\u001b[1;33m\u001b[0m\u001b[1;33m\u001b[0m\u001b[0m\n",
      "\u001b[1;31mIndexError\u001b[0m: index 10 is out of bounds for axis 0 with size 10"
     ]
    }
   ],
   "source": [
    "# for the calculation, only the users which have the real r values in the R matrix.\n",
    "m = len(mtrx_R)   # number of user's biases\n",
    "n = len(mtrx_R[0])   # number of artists's biases\n",
    "num_rows_A = len(mtrx_R[mtrx_R >= 0])\n",
    "A = np.zeros((num_rows_A, m+n))\n",
    "num_biases_users = m\n",
    "num_biases_artists = num_rows_A\n",
    "counter_num_user = 0\n",
    "counter_num_artist = 0\n",
    "\n",
    "total = n*m\n",
    "i = 0\n",
    "k = 0\n",
    "while(i <= n*m):\n",
    "    A[counter_num_user][k] = 1\n",
    "    A[counter_num_user][counter_num_artist + num_biases_users] = 1\n",
    "    counter_num_artist += 1\n",
    "    counter_num_user += 1\n",
    "    if (counter_num_artist + num_biases_users) == num_biases_artists:\n",
    "        counter_num_artist = 0\n",
    "        k +=1\n",
    "A\n",
    "        \n",
    "        "
   ]
  },
  {
   "cell_type": "code",
   "execution_count": 136,
   "id": "c022492a",
   "metadata": {},
   "outputs": [
    {
     "data": {
      "text/plain": [
       "10"
      ]
     },
     "execution_count": 136,
     "metadata": {},
     "output_type": "execute_result"
    }
   ],
   "source": [
    "len(mtrx_R[mtrx_R >= 0])"
   ]
  },
  {
   "cell_type": "code",
   "execution_count": null,
   "id": "5a7e911a",
   "metadata": {},
   "outputs": [],
   "source": []
  }
 ],
 "metadata": {
  "kernelspec": {
   "display_name": "Python 3 (ipykernel)",
   "language": "python",
   "name": "python3"
  },
  "language_info": {
   "codemirror_mode": {
    "name": "ipython",
    "version": 3
   },
   "file_extension": ".py",
   "mimetype": "text/x-python",
   "name": "python",
   "nbconvert_exporter": "python",
   "pygments_lexer": "ipython3",
   "version": "3.10.4"
  }
 },
 "nbformat": 4,
 "nbformat_minor": 5
}
