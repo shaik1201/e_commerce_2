{
 "cells": [
  {
   "cell_type": "code",
   "execution_count": 1,
   "id": "7fa153fe",
   "metadata": {},
   "outputs": [],
   "source": [
    "import numpy as np\n",
    "import pandas as pd\n",
    "import math\n",
    "np.set_printoptions(suppress=True)\n",
    "\n",
    "\n",
    "user_artist_df = pd.read_csv('user_artist.csv')\n",
    "test_df = pd.read_csv('test.csv')"
   ]
  },
  {
   "cell_type": "code",
   "execution_count": 2,
   "id": "4968dc2e",
   "metadata": {},
   "outputs": [],
   "source": [
    "new_df = (user_artist_df.copy())[0:50]\n",
    "new_test_df = (test_df.copy())\n",
    "mask = (new_test_df['userID'] == 145)\n",
    "mask1 = (new_test_df['userID'] == 145) | (new_test_df['userID'] == 1539) | (new_test_df['userID'] == 2214)| (new_test_df['userID'] == 211) | (new_test_df['userID'] == 3028)\n",
    "new_test_df = new_test_df[mask] \n",
    "new_test_df['weight'] = -1"
   ]
  },
  {
   "cell_type": "code",
   "execution_count": 3,
   "id": "e6d0121a",
   "metadata": {},
   "outputs": [
    {
     "data": {
      "text/html": [
       "<div>\n",
       "<style scoped>\n",
       "    .dataframe tbody tr th:only-of-type {\n",
       "        vertical-align: middle;\n",
       "    }\n",
       "\n",
       "    .dataframe tbody tr th {\n",
       "        vertical-align: top;\n",
       "    }\n",
       "\n",
       "    .dataframe thead th {\n",
       "        text-align: right;\n",
       "    }\n",
       "</style>\n",
       "<table border=\"1\" class=\"dataframe\">\n",
       "  <thead>\n",
       "    <tr style=\"text-align: right;\">\n",
       "      <th>artistID</th>\n",
       "      <th>430087</th>\n",
       "    </tr>\n",
       "    <tr>\n",
       "      <th>userID</th>\n",
       "      <th></th>\n",
       "    </tr>\n",
       "  </thead>\n",
       "  <tbody>\n",
       "    <tr>\n",
       "      <th>145</th>\n",
       "      <td>-1</td>\n",
       "    </tr>\n",
       "  </tbody>\n",
       "</table>\n",
       "</div>"
      ],
      "text/plain": [
       "artistID  430087\n",
       "userID          \n",
       "145           -1"
      ]
     },
     "execution_count": 3,
     "metadata": {},
     "output_type": "execute_result"
    }
   ],
   "source": [
    "new_test_df1 = pd.pivot_table(new_test_df, values = 'weight', index = ['userID'], columns = ['artistID'])\n",
    "new_test_df1"
   ]
  },
  {
   "cell_type": "code",
   "execution_count": 4,
   "id": "116d4670",
   "metadata": {},
   "outputs": [
    {
     "data": {
      "text/html": [
       "<div>\n",
       "<style scoped>\n",
       "    .dataframe tbody tr th:only-of-type {\n",
       "        vertical-align: middle;\n",
       "    }\n",
       "\n",
       "    .dataframe tbody tr th {\n",
       "        vertical-align: top;\n",
       "    }\n",
       "\n",
       "    .dataframe thead th {\n",
       "        text-align: right;\n",
       "    }\n",
       "</style>\n",
       "<table border=\"1\" class=\"dataframe\">\n",
       "  <thead>\n",
       "    <tr style=\"text-align: right;\">\n",
       "      <th>artistID</th>\n",
       "      <th>16297</th>\n",
       "      <th>34924</th>\n",
       "      <th>64135</th>\n",
       "      <th>71619</th>\n",
       "      <th>76710</th>\n",
       "      <th>77532</th>\n",
       "      <th>98678</th>\n",
       "      <th>124806</th>\n",
       "      <th>138281</th>\n",
       "      <th>158427</th>\n",
       "      <th>...</th>\n",
       "      <th>832710</th>\n",
       "      <th>838773</th>\n",
       "      <th>853711</th>\n",
       "      <th>880536</th>\n",
       "      <th>880675</th>\n",
       "      <th>923116</th>\n",
       "      <th>942223</th>\n",
       "      <th>955087</th>\n",
       "      <th>990451</th>\n",
       "      <th>998913</th>\n",
       "    </tr>\n",
       "    <tr>\n",
       "      <th>userID</th>\n",
       "      <th></th>\n",
       "      <th></th>\n",
       "      <th></th>\n",
       "      <th></th>\n",
       "      <th></th>\n",
       "      <th></th>\n",
       "      <th></th>\n",
       "      <th></th>\n",
       "      <th></th>\n",
       "      <th></th>\n",
       "      <th></th>\n",
       "      <th></th>\n",
       "      <th></th>\n",
       "      <th></th>\n",
       "      <th></th>\n",
       "      <th></th>\n",
       "      <th></th>\n",
       "      <th></th>\n",
       "      <th></th>\n",
       "      <th></th>\n",
       "      <th></th>\n",
       "    </tr>\n",
       "  </thead>\n",
       "  <tbody>\n",
       "    <tr>\n",
       "      <th>145</th>\n",
       "      <td>NaN</td>\n",
       "      <td>NaN</td>\n",
       "      <td>131.0</td>\n",
       "      <td>445.0</td>\n",
       "      <td>74.0</td>\n",
       "      <td>157.0</td>\n",
       "      <td>67.0</td>\n",
       "      <td>83.0</td>\n",
       "      <td>99.0</td>\n",
       "      <td>102.0</td>\n",
       "      <td>...</td>\n",
       "      <td>NaN</td>\n",
       "      <td>252.0</td>\n",
       "      <td>100.0</td>\n",
       "      <td>NaN</td>\n",
       "      <td>101.0</td>\n",
       "      <td>156.0</td>\n",
       "      <td>173.0</td>\n",
       "      <td>5450.0</td>\n",
       "      <td>NaN</td>\n",
       "      <td>132.0</td>\n",
       "    </tr>\n",
       "    <tr>\n",
       "      <th>211</th>\n",
       "      <td>188.0</td>\n",
       "      <td>NaN</td>\n",
       "      <td>NaN</td>\n",
       "      <td>NaN</td>\n",
       "      <td>NaN</td>\n",
       "      <td>NaN</td>\n",
       "      <td>NaN</td>\n",
       "      <td>NaN</td>\n",
       "      <td>NaN</td>\n",
       "      <td>NaN</td>\n",
       "      <td>...</td>\n",
       "      <td>114.0</td>\n",
       "      <td>NaN</td>\n",
       "      <td>NaN</td>\n",
       "      <td>103.0</td>\n",
       "      <td>NaN</td>\n",
       "      <td>NaN</td>\n",
       "      <td>NaN</td>\n",
       "      <td>NaN</td>\n",
       "      <td>80.0</td>\n",
       "      <td>NaN</td>\n",
       "    </tr>\n",
       "    <tr>\n",
       "      <th>1539</th>\n",
       "      <td>NaN</td>\n",
       "      <td>679.0</td>\n",
       "      <td>NaN</td>\n",
       "      <td>NaN</td>\n",
       "      <td>NaN</td>\n",
       "      <td>NaN</td>\n",
       "      <td>NaN</td>\n",
       "      <td>NaN</td>\n",
       "      <td>NaN</td>\n",
       "      <td>NaN</td>\n",
       "      <td>...</td>\n",
       "      <td>NaN</td>\n",
       "      <td>NaN</td>\n",
       "      <td>NaN</td>\n",
       "      <td>NaN</td>\n",
       "      <td>NaN</td>\n",
       "      <td>NaN</td>\n",
       "      <td>NaN</td>\n",
       "      <td>NaN</td>\n",
       "      <td>NaN</td>\n",
       "      <td>NaN</td>\n",
       "    </tr>\n",
       "  </tbody>\n",
       "</table>\n",
       "<p>3 rows × 50 columns</p>\n",
       "</div>"
      ],
      "text/plain": [
       "artistID  16297   34924   64135   71619   76710   77532   98678   124806  \\\n",
       "userID                                                                     \n",
       "145          NaN     NaN   131.0   445.0    74.0   157.0    67.0    83.0   \n",
       "211        188.0     NaN     NaN     NaN     NaN     NaN     NaN     NaN   \n",
       "1539         NaN   679.0     NaN     NaN     NaN     NaN     NaN     NaN   \n",
       "\n",
       "artistID  138281  158427  ...  832710  838773  853711  880536  880675  923116  \\\n",
       "userID                    ...                                                   \n",
       "145         99.0   102.0  ...     NaN   252.0   100.0     NaN   101.0   156.0   \n",
       "211          NaN     NaN  ...   114.0     NaN     NaN   103.0     NaN     NaN   \n",
       "1539         NaN     NaN  ...     NaN     NaN     NaN     NaN     NaN     NaN   \n",
       "\n",
       "artistID  942223  955087  990451  998913  \n",
       "userID                                    \n",
       "145        173.0  5450.0     NaN   132.0  \n",
       "211          NaN     NaN    80.0     NaN  \n",
       "1539         NaN     NaN     NaN     NaN  \n",
       "\n",
       "[3 rows x 50 columns]"
      ]
     },
     "execution_count": 4,
     "metadata": {},
     "output_type": "execute_result"
    }
   ],
   "source": [
    "new_df1 = pd.pivot_table(new_df, values=\"weight\", index=['userID'], columns=[\"artistID\"])\n",
    "new_df1"
   ]
  },
  {
   "cell_type": "code",
   "execution_count": 5,
   "id": "044d0f5f",
   "metadata": {},
   "outputs": [],
   "source": [
    "new_df1.fillna(0, inplace=True)"
   ]
  },
  {
   "cell_type": "code",
   "execution_count": 6,
   "id": "b69fa4c5",
   "metadata": {},
   "outputs": [
    {
     "data": {
      "text/html": [
       "<div>\n",
       "<style scoped>\n",
       "    .dataframe tbody tr th:only-of-type {\n",
       "        vertical-align: middle;\n",
       "    }\n",
       "\n",
       "    .dataframe tbody tr th {\n",
       "        vertical-align: top;\n",
       "    }\n",
       "\n",
       "    .dataframe thead th {\n",
       "        text-align: right;\n",
       "    }\n",
       "</style>\n",
       "<table border=\"1\" class=\"dataframe\">\n",
       "  <thead>\n",
       "    <tr style=\"text-align: right;\">\n",
       "      <th>artistID</th>\n",
       "      <th>16297</th>\n",
       "      <th>34924</th>\n",
       "      <th>64135</th>\n",
       "      <th>71619</th>\n",
       "      <th>76710</th>\n",
       "      <th>77532</th>\n",
       "      <th>98678</th>\n",
       "      <th>124806</th>\n",
       "      <th>138281</th>\n",
       "      <th>158427</th>\n",
       "      <th>...</th>\n",
       "      <th>832710</th>\n",
       "      <th>838773</th>\n",
       "      <th>853711</th>\n",
       "      <th>880536</th>\n",
       "      <th>880675</th>\n",
       "      <th>923116</th>\n",
       "      <th>942223</th>\n",
       "      <th>955087</th>\n",
       "      <th>990451</th>\n",
       "      <th>998913</th>\n",
       "    </tr>\n",
       "    <tr>\n",
       "      <th>userID</th>\n",
       "      <th></th>\n",
       "      <th></th>\n",
       "      <th></th>\n",
       "      <th></th>\n",
       "      <th></th>\n",
       "      <th></th>\n",
       "      <th></th>\n",
       "      <th></th>\n",
       "      <th></th>\n",
       "      <th></th>\n",
       "      <th></th>\n",
       "      <th></th>\n",
       "      <th></th>\n",
       "      <th></th>\n",
       "      <th></th>\n",
       "      <th></th>\n",
       "      <th></th>\n",
       "      <th></th>\n",
       "      <th></th>\n",
       "      <th></th>\n",
       "      <th></th>\n",
       "    </tr>\n",
       "  </thead>\n",
       "  <tbody>\n",
       "    <tr>\n",
       "      <th>145</th>\n",
       "      <td>0.0</td>\n",
       "      <td>0.0</td>\n",
       "      <td>131.0</td>\n",
       "      <td>445.0</td>\n",
       "      <td>74.0</td>\n",
       "      <td>157.0</td>\n",
       "      <td>67.0</td>\n",
       "      <td>83.0</td>\n",
       "      <td>99.0</td>\n",
       "      <td>102.0</td>\n",
       "      <td>...</td>\n",
       "      <td>0.0</td>\n",
       "      <td>252.0</td>\n",
       "      <td>100.0</td>\n",
       "      <td>0.0</td>\n",
       "      <td>101.0</td>\n",
       "      <td>156.0</td>\n",
       "      <td>173.0</td>\n",
       "      <td>5450.0</td>\n",
       "      <td>0.0</td>\n",
       "      <td>132.0</td>\n",
       "    </tr>\n",
       "    <tr>\n",
       "      <th>211</th>\n",
       "      <td>188.0</td>\n",
       "      <td>0.0</td>\n",
       "      <td>0.0</td>\n",
       "      <td>0.0</td>\n",
       "      <td>0.0</td>\n",
       "      <td>0.0</td>\n",
       "      <td>0.0</td>\n",
       "      <td>0.0</td>\n",
       "      <td>0.0</td>\n",
       "      <td>0.0</td>\n",
       "      <td>...</td>\n",
       "      <td>114.0</td>\n",
       "      <td>0.0</td>\n",
       "      <td>0.0</td>\n",
       "      <td>103.0</td>\n",
       "      <td>0.0</td>\n",
       "      <td>0.0</td>\n",
       "      <td>0.0</td>\n",
       "      <td>0.0</td>\n",
       "      <td>80.0</td>\n",
       "      <td>0.0</td>\n",
       "    </tr>\n",
       "    <tr>\n",
       "      <th>1539</th>\n",
       "      <td>0.0</td>\n",
       "      <td>679.0</td>\n",
       "      <td>0.0</td>\n",
       "      <td>0.0</td>\n",
       "      <td>0.0</td>\n",
       "      <td>0.0</td>\n",
       "      <td>0.0</td>\n",
       "      <td>0.0</td>\n",
       "      <td>0.0</td>\n",
       "      <td>0.0</td>\n",
       "      <td>...</td>\n",
       "      <td>0.0</td>\n",
       "      <td>0.0</td>\n",
       "      <td>0.0</td>\n",
       "      <td>0.0</td>\n",
       "      <td>0.0</td>\n",
       "      <td>0.0</td>\n",
       "      <td>0.0</td>\n",
       "      <td>0.0</td>\n",
       "      <td>0.0</td>\n",
       "      <td>0.0</td>\n",
       "    </tr>\n",
       "  </tbody>\n",
       "</table>\n",
       "<p>3 rows × 50 columns</p>\n",
       "</div>"
      ],
      "text/plain": [
       "artistID  16297   34924   64135   71619   76710   77532   98678   124806  \\\n",
       "userID                                                                     \n",
       "145          0.0     0.0   131.0   445.0    74.0   157.0    67.0    83.0   \n",
       "211        188.0     0.0     0.0     0.0     0.0     0.0     0.0     0.0   \n",
       "1539         0.0   679.0     0.0     0.0     0.0     0.0     0.0     0.0   \n",
       "\n",
       "artistID  138281  158427  ...  832710  838773  853711  880536  880675  923116  \\\n",
       "userID                    ...                                                   \n",
       "145         99.0   102.0  ...     0.0   252.0   100.0     0.0   101.0   156.0   \n",
       "211          0.0     0.0  ...   114.0     0.0     0.0   103.0     0.0     0.0   \n",
       "1539         0.0     0.0  ...     0.0     0.0     0.0     0.0     0.0     0.0   \n",
       "\n",
       "artistID  942223  955087  990451  998913  \n",
       "userID                                    \n",
       "145        173.0  5450.0     0.0   132.0  \n",
       "211          0.0     0.0    80.0     0.0  \n",
       "1539         0.0     0.0     0.0     0.0  \n",
       "\n",
       "[3 rows x 50 columns]"
      ]
     },
     "execution_count": 6,
     "metadata": {},
     "output_type": "execute_result"
    }
   ],
   "source": [
    "new_df1"
   ]
  },
  {
   "cell_type": "code",
   "execution_count": 7,
   "id": "c931b119",
   "metadata": {},
   "outputs": [
    {
     "data": {
      "text/html": [
       "<div>\n",
       "<style scoped>\n",
       "    .dataframe tbody tr th:only-of-type {\n",
       "        vertical-align: middle;\n",
       "    }\n",
       "\n",
       "    .dataframe tbody tr th {\n",
       "        vertical-align: top;\n",
       "    }\n",
       "\n",
       "    .dataframe thead th {\n",
       "        text-align: right;\n",
       "    }\n",
       "</style>\n",
       "<table border=\"1\" class=\"dataframe\">\n",
       "  <thead>\n",
       "    <tr style=\"text-align: right;\">\n",
       "      <th>artistID</th>\n",
       "      <th>430087</th>\n",
       "    </tr>\n",
       "    <tr>\n",
       "      <th>userID</th>\n",
       "      <th></th>\n",
       "    </tr>\n",
       "  </thead>\n",
       "  <tbody>\n",
       "    <tr>\n",
       "      <th>145</th>\n",
       "      <td>-1</td>\n",
       "    </tr>\n",
       "  </tbody>\n",
       "</table>\n",
       "</div>"
      ],
      "text/plain": [
       "artistID  430087\n",
       "userID          \n",
       "145           -1"
      ]
     },
     "execution_count": 7,
     "metadata": {},
     "output_type": "execute_result"
    }
   ],
   "source": [
    "new_test_df1"
   ]
  },
  {
   "cell_type": "code",
   "execution_count": 8,
   "id": "c76273f3",
   "metadata": {},
   "outputs": [
    {
     "data": {
      "text/plain": [
       "104.58666666666667"
      ]
     },
     "execution_count": 8,
     "metadata": {},
     "output_type": "execute_result"
    }
   ],
   "source": [
    "# R avg \n",
    "r_avg = (pd.DataFrame(new_df1).to_numpy()).mean()\n",
    "r_avg"
   ]
  },
  {
   "cell_type": "code",
   "execution_count": 9,
   "id": "65674b91",
   "metadata": {},
   "outputs": [],
   "source": [
    "result = pd.concat([new_df1, new_test_df1])\n",
    "# res1 = result.select_dtypes(np.number).max(level=0)\n",
    "res2 = result.groupby(level = 0).median()\n",
    "\n",
    "cols = sorted(list(res2.columns))\n",
    "sortes3 = res2[cols]\n",
    "sortes3.fillna(-2, inplace=True)"
   ]
  },
  {
   "cell_type": "code",
   "execution_count": 10,
   "id": "4f1d82c9",
   "metadata": {},
   "outputs": [
    {
     "data": {
      "text/plain": [
       "array([[   0.,    0.,  131.,  445.,   74.,  157.,   67.,   83.,   99.,\n",
       "         102.,  508.,    0.,  264.,    0.,  156.,    0.,   94.,    0.,\n",
       "         103.,   78.,   74.,   -1.,  178.,    0.,  100.,  423.,  150.,\n",
       "         105.,    0.,   91.,  112.,    0.,  147.,  272.,  187.,    0.,\n",
       "         114.,  263.,    0.,  138.,  197.,    0.,  252.,  100.,    0.,\n",
       "         101.,  156.,  173., 5450.,    0.,  132.],\n",
       "       [ 188.,    0.,    0.,    0.,    0.,    0.,    0.,    0.,    0.,\n",
       "           0.,    0.,    0.,    0.,    0.,    0.,    0.,    0.,  239.,\n",
       "           0.,    0.,    0.,   -2.,    0.,   98.,    0.,    0.,    0.,\n",
       "           0.,  192.,    0.,    0.,  172.,    0.,    0.,    0.,  133.,\n",
       "           0.,    0.,  293.,    0.,    0.,  114.,    0.,    0.,  103.,\n",
       "           0.,    0.,    0.,    0.,   80.,    0.],\n",
       "       [   0.,  679.,    0.,    0.,    0.,    0.,    0.,    0.,    0.,\n",
       "           0.,    0.,  602.,    0.,  577.,    0.,  942.,    0.,    0.,\n",
       "           0.,    0.,    0.,   -2.,    0.,    0.,    0.,    0.,    0.,\n",
       "           0.,    0.,    0.,    0.,    0.,    0.,    0.,    0.,    0.,\n",
       "           0.,    0.,    0.,    0.,    0.,    0.,    0.,    0.,    0.,\n",
       "           0.,    0.,    0.,    0.,    0.,    0.]])"
      ]
     },
     "execution_count": 10,
     "metadata": {},
     "output_type": "execute_result"
    }
   ],
   "source": [
    "mtrx_R = pd.DataFrame(sortes3).to_numpy()\n",
    "mtrx_R # the R matrix"
   ]
  },
  {
   "cell_type": "code",
   "execution_count": 11,
   "id": "e13e7514",
   "metadata": {},
   "outputs": [],
   "source": [
    "# equations:\n",
    "# r_hat = r_avg + b_u + b_ i\n",
    "# min || r_hat - r ||^2\n",
    "# (A_T * A) * b = A_T * c --> b = ((A_T * A)^ -1) * (A_T * c)\n",
    "# need to find out the A matrix"
   ]
  },
  {
   "cell_type": "code",
   "execution_count": 12,
   "id": "e1d771b8",
   "metadata": {},
   "outputs": [],
   "source": [
    "def calc_deviation_b(arr):\n",
    "    n = len(arr[arr >= 0])\n",
    "    if n == 0:\n",
    "        return 0\n",
    "    sum_arr = 0\n",
    "    for i in range(len(arr)):\n",
    "        if arr[i] >= 0:\n",
    "            sum_arr += arr[i]\n",
    "    return sum_arr/n"
   ]
  },
  {
   "cell_type": "code",
   "execution_count": 13,
   "id": "ca6ff7d6",
   "metadata": {},
   "outputs": [],
   "source": [
    "b_u = []\n",
    "b_i = []\n",
    "for i in range(len(mtrx_R)):\n",
    "    b_u.append((calc_deviation_b(mtrx_R[i]) - r_avg))\n",
    "\n",
    "sortes4 = sortes3.T\n",
    "mtrx_R_transpose = pd.DataFrame(sortes4).to_numpy()\n",
    "\n",
    "for i in range(len(mtrx_R_transpose)):\n",
    "    b_i.append((calc_deviation_b(mtrx_R_transpose[i]) - r_avg))\n",
    "    \n"
   ]
  },
  {
   "cell_type": "code",
   "execution_count": 14,
   "id": "5bb6807c",
   "metadata": {},
   "outputs": [
    {
     "data": {
      "text/plain": [
       "array([[ 183.6       ,  347.26666667,  164.6       ,  269.26666667,\n",
       "         145.6       ,  173.26666667,  143.26666667,  148.6       ,\n",
       "         153.93333333,  154.93333333,  290.26666667,  321.6       ,\n",
       "         208.93333333,  313.26666667,  172.93333333,  434.93333333,\n",
       "         152.26666667,  200.6       ,  155.26666667,  146.93333333,\n",
       "         145.6       ,   -1.        ,  180.26666667,  153.6       ,\n",
       "         154.26666667,  261.93333333,  170.93333333,  155.93333333,\n",
       "         184.93333333,  151.26666667,  158.26666667,  178.26666667,\n",
       "         169.93333333,  211.6       ,  183.26666667,  165.26666667,\n",
       "         158.93333333,  208.6       ,  218.6       ,  166.93333333,\n",
       "         186.6       ,  158.93333333,  204.93333333,  154.26666667,\n",
       "         155.26666667,  154.6       ,  172.93333333,  178.6       ,\n",
       "        1937.6       ,  147.6       ,  164.93333333],\n",
       "       [  -9.68      ,  153.98666667,  -28.68      ,   75.98666667,\n",
       "         -47.68      ,  -20.01333333,  -50.01333333,  -44.68      ,\n",
       "         -39.34666667,  -38.34666667,   96.98666667,  128.32      ,\n",
       "          15.65333333,  119.98666667,  -20.34666667,  241.65333333,\n",
       "         -41.01333333,    7.32      ,  -38.01333333,  -46.34666667,\n",
       "         -47.68      ,   -2.        ,  -13.01333333,  -39.68      ,\n",
       "         -39.01333333,   68.65333333,  -22.34666667,  -37.34666667,\n",
       "          -8.34666667,  -42.01333333,  -35.01333333,  -15.01333333,\n",
       "         -23.34666667,   18.32      ,  -10.01333333,  -28.01333333,\n",
       "         -34.34666667,   15.32      ,   25.32      ,  -26.34666667,\n",
       "          -6.68      ,  -34.34666667,   11.65333333,  -39.01333333,\n",
       "         -38.01333333,  -38.68      ,  -20.34666667,  -14.68      ,\n",
       "        1744.32      ,  -45.68      ,  -28.34666667],\n",
       "       [  14.08      ,  177.74666667,   -4.92      ,   99.74666667,\n",
       "         -23.92      ,    3.74666667,  -26.25333333,  -20.92      ,\n",
       "         -15.58666667,  -14.58666667,  120.74666667,  152.08      ,\n",
       "          39.41333333,  143.74666667,    3.41333333,  265.41333333,\n",
       "         -17.25333333,   31.08      ,  -14.25333333,  -22.58666667,\n",
       "         -23.92      ,   -2.        ,   10.74666667,  -15.92      ,\n",
       "         -15.25333333,   92.41333333,    1.41333333,  -13.58666667,\n",
       "          15.41333333,  -18.25333333,  -11.25333333,    8.74666667,\n",
       "           0.41333333,   42.08      ,   13.74666667,   -4.25333333,\n",
       "         -10.58666667,   39.08      ,   49.08      ,   -2.58666667,\n",
       "          17.08      ,  -10.58666667,   35.41333333,  -15.25333333,\n",
       "         -14.25333333,  -14.92      ,    3.41333333,    9.08      ,\n",
       "        1768.08      ,  -21.92      ,   -4.58666667]])"
      ]
     },
     "execution_count": 14,
     "metadata": {},
     "output_type": "execute_result"
    }
   ],
   "source": [
    "mtrx_R_hat = np.zeros((len(mtrx_R), len(mtrx_R[0])))\n",
    "for i in range(len(mtrx_R)):\n",
    "    for j in range(len(mtrx_R[0])):\n",
    "        if mtrx_R[i,j] == -1:\n",
    "            mtrx_R_hat[i,j] = -1\n",
    "        elif mtrx_R[i,j] == -2:\n",
    "            mtrx_R_hat[i,j] = -2\n",
    "        else:\n",
    "            mtrx_R_hat[i,j] = r_avg + b_u[i] + b_i[j]\n",
    "        \n",
    "mtrx_R_hat"
   ]
  },
  {
   "cell_type": "code",
   "execution_count": 15,
   "id": "a472e505",
   "metadata": {},
   "outputs": [],
   "source": [
    "mtrx_R_tilda = mtrx_R - mtrx_R_hat"
   ]
  },
  {
   "cell_type": "code",
   "execution_count": 24,
   "id": "97f28e75",
   "metadata": {},
   "outputs": [
    {
     "data": {
      "text/plain": [
       "51"
      ]
     },
     "execution_count": 24,
     "metadata": {},
     "output_type": "execute_result"
    }
   ],
   "source": [
    "from sklearn.metrics.pairwise import cosine_similarity\n",
    "mtrx_R_tilda_new = np.nan_to_num(mtrx_R_tilda, copy=True, nan=0.0, posinf=None, neginf=None)\n",
    "similarities = cosine_similarity(mtrx_R_tilda_new.T)\n",
    "len(similarities[0])"
   ]
  },
  {
   "cell_type": "code",
   "execution_count": 25,
   "id": "cd49d6eb",
   "metadata": {},
   "outputs": [],
   "source": [
    "mtrx_R_final = np.zeros((len(mtrx_R), len(mtrx_R[0])))"
   ]
  },
  {
   "cell_type": "code",
   "execution_count": 26,
   "id": "1b38ce96",
   "metadata": {},
   "outputs": [],
   "source": [
    "def get_nearest(i):\n",
    "    res = []\n",
    "    array = similarities[i]\n",
    "    \n",
    "    for x in range(0, 2):\n",
    "        largeNum = 0\n",
    "        for y in range(len(array)):\n",
    "            if array[y] == 1:\n",
    "                continue\n",
    "            if np.abs(array[y]) > np.abs(largeNum):\n",
    "                largeNum = array[y]\n",
    "        array[y] = 0\n",
    "        res.append((largeNum, y))\n",
    "    return res"
   ]
  },
  {
   "cell_type": "code",
   "execution_count": 27,
   "id": "23f55265",
   "metadata": {},
   "outputs": [
    {
     "data": {
      "text/plain": [
       "array([[ 1.        ,  0.15455374,  0.98009462, ..., -0.83017273,\n",
       "         0.97968331,  0.98147243],\n",
       "       [ 0.15455374,  1.        ,  0.34762278, ..., -0.67911379,\n",
       "         0.34955476,  0.34099141],\n",
       "       [ 0.98009462,  0.34762278,  1.        , ..., -0.92433008,\n",
       "         0.99999788,  0.99997506],\n",
       "       ...,\n",
       "       [-0.83017273, -0.67911379, -0.92433008, ...,  1.        ,\n",
       "        -0.92511468, -0.92161175],\n",
       "       [ 0.97968331,  0.34955476,  0.99999788, ..., -0.92511468,\n",
       "         1.        ,  0.99995837],\n",
       "       [ 0.98147243,  0.34099141,  0.99997506, ..., -0.92161175,\n",
       "         0.99995837,  1.        ]])"
      ]
     },
     "execution_count": 27,
     "metadata": {},
     "output_type": "execute_result"
    }
   ],
   "source": [
    "similarities"
   ]
  },
  {
   "cell_type": "code",
   "execution_count": 32,
   "id": "092b8257",
   "metadata": {},
   "outputs": [
    {
     "name": "stdout",
     "output_type": "stream",
     "text": [
      "[0.9999859207546942, 0.9999859207546942]\n",
      "[0.9999859207546942, 0.9999859207546942]\n",
      "[0.9999859207546942, 0.9999859207546942]\n"
     ]
    }
   ],
   "source": [
    "for i in range(len(mtrx_R)):\n",
    "    for j in range(len(mtrx_R[0])):\n",
    "        if mtrx_R_hat[i,j] == -2:\n",
    "            continue\n",
    "        else:\n",
    "            res = get_nearest(j)\n",
    "            print(res)\n",
    "            break\n",
    "            for k in range(2):\n",
    "                \n",
    "                mtrx_R_final[i,j] = mtrx_R_hat[i,j] + res[1][k]\n",
    "        \n",
    "            \n",
    "        \n",
    "            "
   ]
  },
  {
   "cell_type": "code",
   "execution_count": null,
   "id": "702a53af",
   "metadata": {},
   "outputs": [],
   "source": []
  },
  {
   "cell_type": "code",
   "execution_count": null,
   "id": "58fa9694",
   "metadata": {},
   "outputs": [],
   "source": []
  },
  {
   "cell_type": "code",
   "execution_count": null,
   "id": "8330e47d",
   "metadata": {},
   "outputs": [],
   "source": []
  },
  {
   "cell_type": "code",
   "execution_count": null,
   "id": "3884c340",
   "metadata": {},
   "outputs": [],
   "source": []
  }
 ],
 "metadata": {
  "kernelspec": {
   "display_name": "Python 3 (ipykernel)",
   "language": "python",
   "name": "python3"
  },
  "language_info": {
   "codemirror_mode": {
    "name": "ipython",
    "version": 3
   },
   "file_extension": ".py",
   "mimetype": "text/x-python",
   "name": "python",
   "nbconvert_exporter": "python",
   "pygments_lexer": "ipython3",
   "version": "3.10.4"
  }
 },
 "nbformat": 4,
 "nbformat_minor": 5
}
