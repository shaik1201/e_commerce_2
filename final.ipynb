{
 "cells": [
  {
   "cell_type": "code",
   "execution_count": 1,
   "id": "154d6d9a",
   "metadata": {},
   "outputs": [],
   "source": [
    "import numpy as np\n",
    "import pandas as pd\n",
    "import math\n",
    "np.set_printoptions(suppress=True)"
   ]
  },
  {
   "cell_type": "code",
   "execution_count": 2,
   "id": "dacc134c",
   "metadata": {},
   "outputs": [],
   "source": [
    "user_artist_df = pd.read_csv('user_artist.csv')\n",
    "test_df = pd.read_csv('test.csv')"
   ]
  },
  {
   "cell_type": "code",
   "execution_count": 3,
   "id": "bf42b293",
   "metadata": {},
   "outputs": [],
   "source": [
    "new_df = (user_artist_df.copy())\n",
    "new_test_df = (test_df.copy())\n",
    "# mask = (new_test_df['userID'] == 145)\n",
    "# mask1 = (new_test_df['userID'] == 145) | (new_test_df['userID'] == 1539) | (new_test_df['userID'] == 2214)| (new_test_df['userID'] == 211) | (new_test_df['userID'] == 3028)\n",
    "# new_test_df = new_test_df[mask] \n",
    "new_test_df['weight'] = -1"
   ]
  },
  {
   "cell_type": "code",
   "execution_count": 4,
   "id": "32ba611f",
   "metadata": {},
   "outputs": [],
   "source": [
    "new_test_df1 = pd.pivot_table(new_test_df, values = 'weight', index = ['userID'], columns = ['artistID'])"
   ]
  },
  {
   "cell_type": "code",
   "execution_count": 5,
   "id": "465bf858",
   "metadata": {},
   "outputs": [],
   "source": [
    "new_df1 = pd.pivot_table(new_df, values=\"weight\", index=['userID'], columns=[\"artistID\"])"
   ]
  },
  {
   "cell_type": "code",
   "execution_count": 6,
   "id": "a8b23347",
   "metadata": {},
   "outputs": [],
   "source": [
    "new_df1.fillna(0, inplace=True)"
   ]
  },
  {
   "cell_type": "code",
   "execution_count": 7,
   "id": "c3b318f9",
   "metadata": {},
   "outputs": [
    {
     "data": {
      "text/plain": [
       "1.8910221059478527"
      ]
     },
     "execution_count": 7,
     "metadata": {},
     "output_type": "execute_result"
    }
   ],
   "source": [
    "# R avg \n",
    "r_avg = (pd.DataFrame(new_df1).to_numpy()).mean()\n",
    "r_avg"
   ]
  },
  {
   "cell_type": "code",
   "execution_count": 8,
   "id": "81ac9439",
   "metadata": {},
   "outputs": [],
   "source": [
    "result = pd.concat([new_df1, new_test_df1])\n",
    "# res1 = result.select_dtypes(np.number).max(level=0)\n",
    "res2 = result.groupby(level = 0).median()\n",
    "\n",
    "cols = sorted(list(res2.columns))\n",
    "sortes3 = res2[cols]\n",
    "sortes3.fillna(-2, inplace=True)"
   ]
  },
  {
   "cell_type": "code",
   "execution_count": 9,
   "id": "f1fa891c",
   "metadata": {},
   "outputs": [],
   "source": [
    "mtrx_R = pd.DataFrame(sortes3).to_numpy()"
   ]
  },
  {
   "cell_type": "code",
   "execution_count": 10,
   "id": "b777e6df",
   "metadata": {},
   "outputs": [],
   "source": [
    "def calc_deviation_b(arr):\n",
    "    n = len(arr[arr >= 0])\n",
    "    if n == 0:\n",
    "        return 0\n",
    "    sum_arr = 0\n",
    "    for i in range(len(arr)):\n",
    "        if arr[i] >= 0:\n",
    "            sum_arr += arr[i]\n",
    "    return sum_arr/n"
   ]
  },
  {
   "cell_type": "code",
   "execution_count": 11,
   "id": "d5d8c2e4",
   "metadata": {},
   "outputs": [],
   "source": [
    "b_u = []\n",
    "b_i = []\n",
    "for i in range(len(mtrx_R)):\n",
    "    b_u.append((calc_deviation_b(mtrx_R[i]) - r_avg))\n",
    "\n",
    "mtrx_R_tr = mtrx_R.T\n",
    "\n",
    "for i in range(len(mtrx_R_tr)):\n",
    "    b_i.append((calc_deviation_b(mtrx_R_tr[i]) - r_avg))"
   ]
  },
  {
   "cell_type": "code",
   "execution_count": 12,
   "id": "c0f153f7",
   "metadata": {},
   "outputs": [],
   "source": [
    "# create R_hat\n",
    "to_filled = []\n",
    "mtrx_R_hat = np.zeros((len(mtrx_R), len(mtrx_R[0])))\n",
    "for i in range(len(mtrx_R)):\n",
    "     for j in range(len(mtrx_R[0])):\n",
    "        # here don't use -1 yet.\n",
    "        if mtrx_R[i,j] == -2:\n",
    "            mtrx_R_hat[i,j] = 0\n",
    "        else:\n",
    "            mtrx_R_hat[i,j] = r_avg + b_u[i] + b_i[j]\n",
    "            if mtrx_R[i,j] == -1:\n",
    "                to_filled.append((i,j))\n",
    "        \n",
    "            "
   ]
  },
  {
   "cell_type": "code",
   "execution_count": 13,
   "id": "1b340447",
   "metadata": {},
   "outputs": [],
   "source": [
    "# create R_tilda\n",
    "mtrx_R_tilda = mtrx_R - mtrx_R_hat\n",
    "\n",
    "# put -1 after the sub.\n",
    "\n",
    "for (i,j) in to_filled:\n",
    "    mtrx_R_tilda[i,j] = -1\n"
   ]
  },
  {
   "cell_type": "code",
   "execution_count": 14,
   "id": "f029655b",
   "metadata": {},
   "outputs": [],
   "source": [
    "def special_inner_profuct(mtrx):\n",
    "    mtrx_transpose = mtrx.T\n",
    "    mtrx_R_transpose_copy = mtrx_transpose.copy()\n",
    "    mtrx_R_transpose_copy = np.where(mtrx_R_transpose_copy == -1, 0, mtrx_R_transpose_copy)\n",
    "    mtrx_R_transpose_copy = np.where(mtrx_R_transpose_copy == -2, 0, mtrx_R_transpose_copy)\n",
    "    D = np.zeros((len(mtrx[0]), len(mtrx[0])))\n",
    "    \n",
    "    for i in range(len(mtrx_R_transpose_copy)):\n",
    "        for j in range(len(mtrx_R_transpose_copy)):\n",
    "            mone = np.dot(mtrx_R_transpose_copy[i], mtrx_R_transpose_copy[j])\n",
    "            x = 0\n",
    "            y = 0\n",
    "            for k in range(len(mtrx_R_transpose_copy[0])):\n",
    "                \n",
    "                if mtrx_R_transpose_copy[i][k] != -1 and mtrx_R_transpose_copy[j][k] != -1 and mtrx_R_transpose_copy[i][k] != -2 and mtrx_R_transpose_copy[j][k] != -2:\n",
    "                    x += (mtrx_R_transpose_copy[i][k] ** 2)\n",
    "                    y += (mtrx_R_transpose_copy[j][k] ** 2)     \n",
    "            norm1 = x ** 0.5\n",
    "            norm2 = y ** 0.5\n",
    "            \n",
    "            mechane = norm1 * norm2\n",
    "            if mechane == 0:\n",
    "                D[i,j] = 0\n",
    "            else:\n",
    "                D[i,j] = mone / mechane\n",
    "    \n",
    "#     for i in range(len(mtrx)):\n",
    "#         print(mtrx[i])\n",
    "#     return\n",
    "            \n",
    "    return D"
   ]
  },
  {
   "cell_type": "code",
   "execution_count": 15,
   "id": "ef14490e",
   "metadata": {},
   "outputs": [],
   "source": [
    "def get_nearest(similarities, n):\n",
    "    # n is the number of neighboors we want.\n",
    "    \n",
    "    sim_arr = []\n",
    "    \n",
    "    for i in range(len(similarities)):\n",
    "        array = similarities[i].copy()\n",
    "        array_non_neg = array.copy()\n",
    "        for j in range(len(array)):\n",
    "            if int(array_non_neg[j]) == 1 or int(array_non_neg[j]) == -1:\n",
    "                array_non_neg[j] = 0\n",
    "            if array_non_neg[j] < 0:\n",
    "                array_non_neg[j] = array_non_neg[j] * (-1)\n",
    "\n",
    "        ind = np.argpartition(array_non_neg, -n)[-n:]\n",
    "        \n",
    "        top2 = array[sorted(ind)]\n",
    "        sim_arr.append((top2, sorted(ind)))\n",
    "\n",
    "    \n",
    "    return sim_arr"
   ]
  },
  {
   "cell_type": "code",
   "execution_count": 16,
   "id": "65a3a929",
   "metadata": {},
   "outputs": [],
   "source": [
    "def get_final_R(mtrx_R_hat, mtrx_R_tilda, similiraties):\n",
    "    nearest = get_nearest(similarities, 2) # get the 2 nearest movies and their indexes.\n",
    "   \n",
    "    mtrx_R_final = np.zeros((len(mtrx_R_hat), len(mtrx_R_hat[0])))\n",
    "\n",
    "    for i in range(len(mtrx_R_hat)):\n",
    "        for j in range(len(mtrx_R_hat[0])):\n",
    "#             if (i,j) != (0,1) and (i,j) != (1,0): # this will be replaced by the indexes we extract (cells which need to be filled)\n",
    "#                 mtrx_R_final[i,j] = mtrx_R_hat[i,j] # only predict for the missing ones.\n",
    "#                 continue\n",
    "            \n",
    "            most_similar_mvs_to_j = nearest[j][1] # similarity indexes.\n",
    "            r_tilda  = (mtrx_R_tilda[i][most_similar_mvs_to_j])\n",
    "            mone1 = np.dot(nearest[j][0], r_tilda)\n",
    "            \n",
    "            mechane1 = 0\n",
    "            for k in range(len(nearest[j][0])):\n",
    "                mechane1 += abs(nearest[j][0][k])\n",
    "                \n",
    "            if mechane1 == 0:\n",
    "                mtrx_R_final[i,j] = mtrx_R_hat[i,j]\n",
    "            else:\n",
    "                mtrx_R_final[i,j] = mtrx_R_hat[i,j] + mone1/mechane1\n",
    "    return mtrx_R_final"
   ]
  },
  {
   "cell_type": "code",
   "execution_count": null,
   "id": "a3718607",
   "metadata": {},
   "outputs": [],
   "source": [
    "similarities = special_inner_profuct(mtrx_R_tilda)\n",
    "m = get_final_R(mtrx_R_hat, mtrx_R_tilda, similarities)\n",
    "m"
   ]
  },
  {
   "cell_type": "code",
   "execution_count": null,
   "id": "bc803e71",
   "metadata": {},
   "outputs": [],
   "source": [
    "mtrx_R"
   ]
  },
  {
   "cell_type": "code",
   "execution_count": null,
   "id": "a570585e",
   "metadata": {},
   "outputs": [],
   "source": []
  }
 ],
 "metadata": {
  "kernelspec": {
   "display_name": "Python 3 (ipykernel)",
   "language": "python",
   "name": "python3"
  },
  "language_info": {
   "codemirror_mode": {
    "name": "ipython",
    "version": 3
   },
   "file_extension": ".py",
   "mimetype": "text/x-python",
   "name": "python",
   "nbconvert_exporter": "python",
   "pygments_lexer": "ipython3",
   "version": "3.10.4"
  }
 },
 "nbformat": 4,
 "nbformat_minor": 5
}
